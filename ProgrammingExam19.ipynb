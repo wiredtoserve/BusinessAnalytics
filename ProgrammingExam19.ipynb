{
 "cells": [
  {
   "cell_type": "code",
   "execution_count": null,
   "metadata": {},
   "outputs": [],
   "source": []
  },
  {
   "cell_type": "code",
   "execution_count": 1,
   "metadata": {},
   "outputs": [],
   "source": [
    "#count_keys({'a':3, 'and':10, 'baa':1}, 'a')"
   ]
  },
  {
   "cell_type": "code",
   "execution_count": 7,
   "metadata": {},
   "outputs": [],
   "source": [
    "def count_keys(mydict, letter):\n",
    "    count = 0\n",
    "    for key in mydict.keys():\n",
    "        print(key)\n",
    "        if key[0] == letter:\n",
    "            count += 1\n",
    "    return count\n",
    "    "
   ]
  },
  {
   "cell_type": "code",
   "execution_count": 8,
   "metadata": {},
   "outputs": [
    {
     "name": "stdout",
     "output_type": "stream",
     "text": [
      "a\n",
      "and\n",
      "baa\n"
     ]
    },
    {
     "data": {
      "text/plain": [
       "2"
      ]
     },
     "execution_count": 8,
     "metadata": {},
     "output_type": "execute_result"
    }
   ],
   "source": [
    "count_keys({'a':3, 'and':10, 'baa':1}, 'a')"
   ]
  },
  {
   "cell_type": "markdown",
   "metadata": {},
   "source": [
    "Write a python class called Ball that has attributes x and y that are taken as parameters in the constructor. <br>\n",
    "If x and y are not passed to the constructor, they should have default values of 0."
   ]
  },
  {
   "cell_type": "code",
   "execution_count": 146,
   "metadata": {},
   "outputs": [],
   "source": [
    "class Ball:\n",
    "    def __init__(self, x=0, y=0):\n",
    "        self.x = x\n",
    "        self.y = y\n",
    "        \n",
    "    def quadrant(self):\n",
    "        if self.x > 0 and self.y > 0:\n",
    "            return 1\n",
    "        elif self.x < 0 and self.y > 0:\n",
    "            return 2\n",
    "        elif self.x < 0 and self.y < 0:\n",
    "            return 3\n",
    "        elif self.x > 0 and self.y < 0:\n",
    "            return 4\n",
    "        elif self.x == 0 or self.y == 0:\n",
    "            return None\n",
    "        "
   ]
  },
  {
   "cell_type": "code",
   "execution_count": 147,
   "metadata": {},
   "outputs": [],
   "source": [
    "b = Ball(5,0)"
   ]
  },
  {
   "cell_type": "code",
   "execution_count": 148,
   "metadata": {},
   "outputs": [
    {
     "data": {
      "text/plain": [
       "5"
      ]
     },
     "execution_count": 148,
     "metadata": {},
     "output_type": "execute_result"
    }
   ],
   "source": [
    "b.x"
   ]
  },
  {
   "cell_type": "code",
   "execution_count": 149,
   "metadata": {},
   "outputs": [],
   "source": [
    "b.quadrant()"
   ]
  },
  {
   "cell_type": "code",
   "execution_count": 150,
   "metadata": {},
   "outputs": [],
   "source": [
    "c = Ball(-2,1)"
   ]
  },
  {
   "cell_type": "code",
   "execution_count": 151,
   "metadata": {},
   "outputs": [
    {
     "data": {
      "text/plain": [
       "2"
      ]
     },
     "execution_count": 151,
     "metadata": {},
     "output_type": "execute_result"
    }
   ],
   "source": [
    "c.quadrant()"
   ]
  },
  {
   "cell_type": "code",
   "execution_count": 92,
   "metadata": {},
   "outputs": [],
   "source": [
    "class Player:\n",
    "    def __init__(self):\n",
    "        self.grid = [[1 for i in range(10)] for j in range(10)]\n",
    "        \n",
    "    def take_turn(self, history):\n",
    "        if history:\n",
    "            self.record_shots(history[-1])\n",
    "\n",
    "        my_shots = self.count_ships()\n",
    "        return my_shots\n",
    "        \n",
    "    def record_shots(self, latest_history):\n",
    "        incoming_shots = latest_history['incoming']\n",
    "        if incoming_shots:\n",
    "            for x, y in incoming_shots:\n",
    "                self.grid[x][y] = -1\n",
    "        return self.grid\n",
    "    \n",
    "    def count_ships(self):\n",
    "        from collections import defaultdict\n",
    "        ships_dd = defaultdict(int) \n",
    "        for row in self.grid:\n",
    "            for point in row:\n",
    "                if point > 0:\n",
    "                    ships_dd[point] += point\n",
    "\n",
    "        number_of_ships = len(ships_dd)\n",
    "        return number_of_ships"
   ]
  },
  {
   "cell_type": "code",
   "execution_count": 93,
   "metadata": {},
   "outputs": [],
   "source": [
    "history = [{'shots': [(1, 3), (6, 3), (5, 4), (9, 2), (9, 8)],\n",
    "  'hits': 0,\n",
    "  'incoming': [(4, 5), (3, 4), (2, 3), (3, 2), (4, 2)]}]"
   ]
  },
  {
   "cell_type": "code",
   "execution_count": 94,
   "metadata": {},
   "outputs": [
    {
     "data": {
      "text/plain": [
       "[(4, 5), (3, 4), (2, 3), (3, 2), (4, 2)]"
      ]
     },
     "execution_count": 94,
     "metadata": {},
     "output_type": "execute_result"
    }
   ],
   "source": [
    "history[-1]['incoming']"
   ]
  },
  {
   "cell_type": "code",
   "execution_count": 95,
   "metadata": {},
   "outputs": [],
   "source": [
    "p = Player()"
   ]
  },
  {
   "cell_type": "code",
   "execution_count": 96,
   "metadata": {},
   "outputs": [
    {
     "data": {
      "text/plain": [
       "1"
      ]
     },
     "execution_count": 96,
     "metadata": {},
     "output_type": "execute_result"
    }
   ],
   "source": [
    "p.take_turn(history)"
   ]
  },
  {
   "cell_type": "code",
   "execution_count": null,
   "metadata": {},
   "outputs": [],
   "source": []
  },
  {
   "cell_type": "markdown",
   "metadata": {},
   "source": [
    "Write a function slimmer that takes in a list of elements and mutates <br>\n",
    "the list by removing the first 'copy' of each distinct element in the list."
   ]
  },
  {
   "cell_type": "code",
   "execution_count": 91,
   "metadata": {},
   "outputs": [],
   "source": [
    "from collections import defaultdict"
   ]
  },
  {
   "cell_type": "code",
   "execution_count": 125,
   "metadata": {},
   "outputs": [],
   "source": [
    "def slimmer(lst):\n",
    "    my_dd = defaultdict(int)\n",
    "    for number in lst:\n",
    "        if number in my_dd.keys():\n",
    "            my_dd[number] += 1\n",
    "        else:\n",
    "            my_dd[number] = 1\n",
    "    \n",
    "    pop_list = []\n",
    "    \n",
    "    for key, val in my_dd.items():\n",
    "        if val < 2:\n",
    "            pop_list += [key]\n",
    "            \n",
    "        elif val > 1:\n",
    "            lst.remove(key)\n",
    "            \n",
    "    for item in pop_list:\n",
    "        lst.remove(item)"
   ]
  },
  {
   "cell_type": "code",
   "execution_count": 126,
   "metadata": {},
   "outputs": [],
   "source": [
    "lst = [12,10,1,10,1]"
   ]
  },
  {
   "cell_type": "code",
   "execution_count": 130,
   "metadata": {},
   "outputs": [],
   "source": [
    "slimmer(lst)"
   ]
  },
  {
   "cell_type": "code",
   "execution_count": 131,
   "metadata": {},
   "outputs": [
    {
     "data": {
      "text/plain": [
       "[1, 1, 1, 2]"
      ]
     },
     "execution_count": 131,
     "metadata": {},
     "output_type": "execute_result"
    }
   ],
   "source": [
    "lst"
   ]
  },
  {
   "cell_type": "code",
   "execution_count": 129,
   "metadata": {},
   "outputs": [],
   "source": [
    "lst = [1,1,10,2,1,1,2]"
   ]
  },
  {
   "cell_type": "code",
   "execution_count": null,
   "metadata": {},
   "outputs": [],
   "source": []
  },
  {
   "cell_type": "code",
   "execution_count": null,
   "metadata": {},
   "outputs": [],
   "source": []
  },
  {
   "cell_type": "code",
   "execution_count": null,
   "metadata": {},
   "outputs": [],
   "source": []
  },
  {
   "cell_type": "code",
   "execution_count": 112,
   "metadata": {},
   "outputs": [],
   "source": [
    "mylist = [1,2,4,2,5]"
   ]
  },
  {
   "cell_type": "code",
   "execution_count": 108,
   "metadata": {},
   "outputs": [
    {
     "data": {
      "text/plain": [
       "4"
      ]
     },
     "execution_count": 108,
     "metadata": {},
     "output_type": "execute_result"
    }
   ],
   "source": [
    "mylist.pop(3)"
   ]
  },
  {
   "cell_type": "code",
   "execution_count": 113,
   "metadata": {},
   "outputs": [],
   "source": [
    "mylist.remove(2)"
   ]
  },
  {
   "cell_type": "code",
   "execution_count": 114,
   "metadata": {},
   "outputs": [
    {
     "data": {
      "text/plain": [
       "[1, 4, 2, 5]"
      ]
     },
     "execution_count": 114,
     "metadata": {},
     "output_type": "execute_result"
    }
   ],
   "source": [
    "mylist"
   ]
  },
  {
   "cell_type": "code",
   "execution_count": null,
   "metadata": {},
   "outputs": [],
   "source": []
  },
  {
   "cell_type": "code",
   "execution_count": 143,
   "metadata": {},
   "outputs": [],
   "source": [
    "def count_ts(my_string):\n",
    "    words = my_string.split()\n",
    "    my_dd = defaultdict(int)\n",
    "    for word in words:\n",
    "        \n",
    "        if word[0].lower() == 't':\n",
    "            if word[1] in my_dd.keys():\n",
    "                my_dd[word[1]] += 1\n",
    "            else:\n",
    "                my_dd[word[1]] = 1\n",
    "                \n",
    "    mylist = sorted([(-val, key) for key,val in my_dd.items()])\n",
    "    \n",
    "    for x, y in mylist:\n",
    "        print(y,abs(x))"
   ]
  },
  {
   "cell_type": "code",
   "execution_count": 144,
   "metadata": {},
   "outputs": [
    {
     "name": "stdout",
     "output_type": "stream",
     "text": [
      "x 3\n",
      "b 2\n",
      "c 2\n",
      "a 1\n"
     ]
    }
   ],
   "source": [
    "count_ts(\"tc tb ta tb tc tx tx tx\")"
   ]
  },
  {
   "cell_type": "code",
   "execution_count": null,
   "metadata": {},
   "outputs": [],
   "source": [
    "sorted_x = sorted([(-val, key) for key,val in tally.items()])"
   ]
  },
  {
   "cell_type": "code",
   "execution_count": 142,
   "metadata": {},
   "outputs": [
    {
     "data": {
      "text/plain": [
       "3"
      ]
     },
     "execution_count": 142,
     "metadata": {},
     "output_type": "execute_result"
    }
   ],
   "source": [
    "abs(-3)"
   ]
  },
  {
   "cell_type": "code",
   "execution_count": null,
   "metadata": {},
   "outputs": [],
   "source": []
  },
  {
   "cell_type": "code",
   "execution_count": null,
   "metadata": {},
   "outputs": [],
   "source": []
  },
  {
   "cell_type": "code",
   "execution_count": 145,
   "metadata": {},
   "outputs": [
    {
     "data": {
      "text/plain": [
       "13"
      ]
     },
     "execution_count": 145,
     "metadata": {},
     "output_type": "execute_result"
    }
   ],
   "source": [
    "(lambda _, __, ___, ____, _____, ______, _______, ________:\n",
    "    getattr(\n",
    "        __import__(True.__class__.__name__[_] + [].__class__.__name__[__]),\n",
    "        ().__class__.__eq__.__class__.__name__[:__] +\n",
    "        ().__iter__().__class__.__name__[_:][_____:________]\n",
    "    )(\n",
    "        _, (lambda _, __, ___: _(_, __, ___))(\n",
    "            lambda _, __, ___:\n",
    "                bytes([___ % __]) + _(_, __, ___ // __) if ___ else\n",
    "                (lambda: _).__code__.co_lnotab,\n",
    "            _ << ________,\n",
    "            (((_____ << ____) + _) << ((___ << _____) - ___)) + (((((___ << __)\n",
    "            - _) << ___) + _) << ((_____ << ____) + (_ << _))) + (((_______ <<\n",
    "            __) - _) << (((((_ << ___) + _)) << ___) + (_ << _))) + (((_______\n",
    "            << ___) + _) << ((_ << ______) + _)) + (((_______ << ____) - _) <<\n",
    "            ((_______ << ___))) + (((_ << ____) - _) << ((((___ << __) + _) <<\n",
    "            __) - _)) - (_______ << ((((___ << __) - _) << __) + _)) + (_______\n",
    "            << (((((_ << ___) + _)) << __))) - ((((((_ << ___) + _)) << __) +\n",
    "            _) << ((((___ << __) + _) << _))) + (((_______ << __) - _) <<\n",
    "            (((((_ << ___) + _)) << _))) + (((___ << ___) + _) << ((_____ <<\n",
    "            _))) + (_____ << ______) + (_ << ___)\n",
    "        )\n",
    "    )\n",
    ")(\n",
    "    *(lambda _, __, ___: _(_, __, ___))(\n",
    "        (lambda _, __, ___:\n",
    "            [__(___[(lambda: _).__code__.co_nlocals])] +\n",
    "            _(_, __, ___[(lambda _: _).__code__.co_nlocals:]) if ___ else []\n",
    "        ),\n",
    "        lambda _: _.__code__.co_argcount,\n",
    "        (\n",
    "            lambda _: _,\n",
    "            lambda _, __: _,\n",
    "            lambda _, __, ___: _,\n",
    "            lambda _, __, ___, ____: _,\n",
    "            lambda _, __, ___, ____, _____: _,\n",
    "            lambda _, __, ___, ____, _____, ______: _,\n",
    "            lambda _, __, ___, ____, _____, ______, _______: _,\n",
    "            lambda _, __, ___, ____, _____, ______, _______, ________: _\n",
    "        )\n",
    "    )\n",
    ")"
   ]
  },
  {
   "cell_type": "code",
   "execution_count": 161,
   "metadata": {},
   "outputs": [],
   "source": [
    "class S:\n",
    "    lst = [[1, 3], [5, None], [3, 4], [2, 2], [5, 1]]\n",
    "    front = 0   # index of first node of the sll in lst\n",
    "    back = 1    # index of the last node of the sll in lst\n",
    "\n",
    "    def insert(element):\n",
    "        # to be written in part (a)\n",
    "        pass\n",
    "\n",
    "    def new(): \n",
    "        \"\"\"Initiliase the sll to empty.\"\"\"\n",
    "        S.lst = []\n",
    "        S.front = None\n",
    "        S.back  = None"
   ]
  },
  {
   "cell_type": "code",
   "execution_count": 162,
   "metadata": {},
   "outputs": [
    {
     "data": {
      "text/plain": [
       "[[1, 3], [5, None], [3, 4], [2, 2], [5, 1]]"
      ]
     },
     "execution_count": 162,
     "metadata": {},
     "output_type": "execute_result"
    }
   ],
   "source": [
    "S.lst"
   ]
  },
  {
   "cell_type": "code",
   "execution_count": null,
   "metadata": {},
   "outputs": [],
   "source": [
    "# inserting 4\n",
    "# S.lst = [[1, 3], [5, None], [3, 4], [2, 2], [5, 1], [4, 4]]"
   ]
  },
  {
   "cell_type": "code",
   "execution_count": null,
   "metadata": {},
   "outputs": [],
   "source": []
  },
  {
   "cell_type": "code",
   "execution_count": 163,
   "metadata": {},
   "outputs": [
    {
     "data": {
      "text/plain": [
       "[[1, 3], [5, None], [3, 4], [2, 2], [5, 1]]"
      ]
     },
     "execution_count": 163,
     "metadata": {},
     "output_type": "execute_result"
    }
   ],
   "source": [
    "lst"
   ]
  },
  {
   "cell_type": "code",
   "execution_count": 164,
   "metadata": {},
   "outputs": [],
   "source": [
    "my_dict = {}\n",
    "for val, idx in lst:\n",
    "    my_dict[idx] = val"
   ]
  },
  {
   "cell_type": "code",
   "execution_count": 165,
   "metadata": {},
   "outputs": [
    {
     "data": {
      "text/plain": [
       "{3: 1, None: 5, 4: 3, 2: 2, 1: 5}"
      ]
     },
     "execution_count": 165,
     "metadata": {},
     "output_type": "execute_result"
    }
   ],
   "source": [
    "my_dict"
   ]
  },
  {
   "cell_type": "code",
   "execution_count": 171,
   "metadata": {},
   "outputs": [
    {
     "name": "stdout",
     "output_type": "stream",
     "text": [
      "0 [1, 3]\n",
      "1 [5, None]\n",
      "2 [3, 4]\n",
      "3 [2, 2]\n",
      "4 [5, 1]\n"
     ]
    }
   ],
   "source": [
    "for x,y in enumerate(lst):\n",
    "    print(x,y)"
   ]
  },
  {
   "cell_type": "code",
   "execution_count": null,
   "metadata": {},
   "outputs": [],
   "source": []
  },
  {
   "cell_type": "code",
   "execution_count": null,
   "metadata": {},
   "outputs": [],
   "source": []
  },
  {
   "cell_type": "code",
   "execution_count": 152,
   "metadata": {},
   "outputs": [],
   "source": [
    "lst = [[1, 3], [5, None], [3, 4], [2, 2], [5, 1]]"
   ]
  },
  {
   "cell_type": "code",
   "execution_count": 153,
   "metadata": {},
   "outputs": [],
   "source": [
    "mylist = [x for x,y in lst]"
   ]
  },
  {
   "cell_type": "code",
   "execution_count": 154,
   "metadata": {},
   "outputs": [
    {
     "data": {
      "text/plain": [
       "[1, 5, 3, 2, 5]"
      ]
     },
     "execution_count": 154,
     "metadata": {},
     "output_type": "execute_result"
    }
   ],
   "source": [
    "mylist"
   ]
  },
  {
   "cell_type": "code",
   "execution_count": 155,
   "metadata": {},
   "outputs": [],
   "source": [
    "mylist.sort()"
   ]
  },
  {
   "cell_type": "code",
   "execution_count": 156,
   "metadata": {},
   "outputs": [
    {
     "data": {
      "text/plain": [
       "[1, 2, 3, 5, 5]"
      ]
     },
     "execution_count": 156,
     "metadata": {},
     "output_type": "execute_result"
    }
   ],
   "source": [
    "mylist"
   ]
  },
  {
   "cell_type": "code",
   "execution_count": 168,
   "metadata": {},
   "outputs": [],
   "source": [
    "mylist.append(4)"
   ]
  },
  {
   "cell_type": "code",
   "execution_count": 169,
   "metadata": {},
   "outputs": [],
   "source": [
    "mylist.sort()"
   ]
  },
  {
   "cell_type": "code",
   "execution_count": 172,
   "metadata": {},
   "outputs": [
    {
     "data": {
      "text/plain": [
       "[1, 2, 3, 4, 5, 5]"
      ]
     },
     "execution_count": 172,
     "metadata": {},
     "output_type": "execute_result"
    }
   ],
   "source": [
    "mylist"
   ]
  },
  {
   "cell_type": "code",
   "execution_count": 173,
   "metadata": {},
   "outputs": [],
   "source": [
    "element = 4\n",
    "for x,y in enumerate(mylist):\n",
    "    if y == element:\n",
    "        pointer_pos = x"
   ]
  },
  {
   "cell_type": "code",
   "execution_count": 174,
   "metadata": {},
   "outputs": [
    {
     "data": {
      "text/plain": [
       "3"
      ]
     },
     "execution_count": 174,
     "metadata": {},
     "output_type": "execute_result"
    }
   ],
   "source": [
    "pointer_pos"
   ]
  },
  {
   "cell_type": "code",
   "execution_count": null,
   "metadata": {},
   "outputs": [],
   "source": []
  },
  {
   "cell_type": "code",
   "execution_count": 218,
   "metadata": {},
   "outputs": [],
   "source": [
    "def lin_reg(xy):\n",
    "    \"\"\"xy is a list of tuples of two numeric values, (x,y). \n",
    "    Return the linear regression coefficients of x vs y.\n",
    "    \"\"\"\n",
    "    n = len(xy)\n",
    "\n",
    "    sum_x, sum_y = sum(xy[0]), sum(xy[1])\n",
    "\n",
    "    mean_x, mean_y = sum_x/n, sum_y/n\n",
    "  \n",
    "    SS_xy = 1.5 \n",
    "    SS_xx = 0\n",
    "\n",
    "    b_1 = SS_xy / SS_xx \n",
    "    b_0 = mean_y - b_1 * mean_x \n",
    "\n",
    "    return (b_0, b_1) "
   ]
  },
  {
   "cell_type": "code",
   "execution_count": 219,
   "metadata": {},
   "outputs": [
    {
     "ename": "ZeroDivisionError",
     "evalue": "float division by zero",
     "output_type": "error",
     "traceback": [
      "\u001b[0;31m---------------------------------------------------------------------------\u001b[0m",
      "\u001b[0;31mZeroDivisionError\u001b[0m                         Traceback (most recent call last)",
      "\u001b[0;32m<ipython-input-219-9017add7402c>\u001b[0m in \u001b[0;36m<module>\u001b[0;34m()\u001b[0m\n\u001b[0;32m----> 1\u001b[0;31m \u001b[0mlin_reg\u001b[0m\u001b[0;34m(\u001b[0m\u001b[0;34m[\u001b[0m\u001b[0;34m(\u001b[0m\u001b[0;36m2\u001b[0m\u001b[0;34m,\u001b[0m\u001b[0;36m3\u001b[0m\u001b[0;34m)\u001b[0m\u001b[0;34m,\u001b[0m \u001b[0;34m(\u001b[0m\u001b[0;36m5\u001b[0m\u001b[0;34m,\u001b[0m\u001b[0;36m8\u001b[0m\u001b[0;34m)\u001b[0m\u001b[0;34m]\u001b[0m\u001b[0;34m)\u001b[0m\u001b[0;34m\u001b[0m\u001b[0;34m\u001b[0m\u001b[0m\n\u001b[0m",
      "\u001b[0;32m<ipython-input-218-f2d513f7dbc6>\u001b[0m in \u001b[0;36mlin_reg\u001b[0;34m(xy)\u001b[0m\n\u001b[1;32m     12\u001b[0m     \u001b[0mSS_xx\u001b[0m \u001b[0;34m=\u001b[0m \u001b[0;36m0\u001b[0m\u001b[0;34m\u001b[0m\u001b[0;34m\u001b[0m\u001b[0m\n\u001b[1;32m     13\u001b[0m \u001b[0;34m\u001b[0m\u001b[0m\n\u001b[0;32m---> 14\u001b[0;31m     \u001b[0mb_1\u001b[0m \u001b[0;34m=\u001b[0m \u001b[0mSS_xy\u001b[0m \u001b[0;34m/\u001b[0m \u001b[0mSS_xx\u001b[0m\u001b[0;34m\u001b[0m\u001b[0;34m\u001b[0m\u001b[0m\n\u001b[0m\u001b[1;32m     15\u001b[0m     \u001b[0mb_0\u001b[0m \u001b[0;34m=\u001b[0m \u001b[0mmean_y\u001b[0m \u001b[0;34m-\u001b[0m \u001b[0mb_1\u001b[0m \u001b[0;34m*\u001b[0m \u001b[0mmean_x\u001b[0m\u001b[0;34m\u001b[0m\u001b[0;34m\u001b[0m\u001b[0m\n\u001b[1;32m     16\u001b[0m \u001b[0;34m\u001b[0m\u001b[0m\n",
      "\u001b[0;31mZeroDivisionError\u001b[0m: float division by zero"
     ]
    }
   ],
   "source": [
    "lin_reg([(2,3), (5,8)])"
   ]
  },
  {
   "cell_type": "code",
   "execution_count": 180,
   "metadata": {},
   "outputs": [],
   "source": [
    "xy = [(2,3), (5,8)]"
   ]
  },
  {
   "cell_type": "code",
   "execution_count": 181,
   "metadata": {},
   "outputs": [
    {
     "data": {
      "text/plain": [
       "5"
      ]
     },
     "execution_count": 181,
     "metadata": {},
     "output_type": "execute_result"
    }
   ],
   "source": [
    "sum(xy[0])"
   ]
  },
  {
   "cell_type": "code",
   "execution_count": 183,
   "metadata": {},
   "outputs": [],
   "source": [
    "n = len(xy)"
   ]
  },
  {
   "cell_type": "code",
   "execution_count": 184,
   "metadata": {},
   "outputs": [],
   "source": [
    "sum_x, sum_y = sum(xy[0]), sum(xy[1])"
   ]
  },
  {
   "cell_type": "code",
   "execution_count": 185,
   "metadata": {},
   "outputs": [
    {
     "data": {
      "text/plain": [
       "(5, 13)"
      ]
     },
     "execution_count": 185,
     "metadata": {},
     "output_type": "execute_result"
    }
   ],
   "source": [
    "sum_x, sum_y"
   ]
  },
  {
   "cell_type": "code",
   "execution_count": 186,
   "metadata": {},
   "outputs": [
    {
     "data": {
      "text/plain": [
       "(2.5, 6.5)"
      ]
     },
     "execution_count": 186,
     "metadata": {},
     "output_type": "execute_result"
    }
   ],
   "source": [
    "mean_x, mean_y = sum_x/n, sum_y/n\n",
    "mean_x, mean_y "
   ]
  },
  {
   "cell_type": "code",
   "execution_count": 197,
   "metadata": {},
   "outputs": [
    {
     "ename": "TypeError",
     "evalue": "can't multiply sequence by non-int of type 'tuple'",
     "output_type": "error",
     "traceback": [
      "\u001b[0;31m---------------------------------------------------------------------------\u001b[0m",
      "\u001b[0;31mTypeError\u001b[0m                                 Traceback (most recent call last)",
      "\u001b[0;32m<ipython-input-197-24ff51cc0f63>\u001b[0m in \u001b[0;36m<module>\u001b[0;34m()\u001b[0m\n\u001b[0;32m----> 1\u001b[0;31m \u001b[0msum\u001b[0m\u001b[0;34m(\u001b[0m\u001b[0mxy\u001b[0m\u001b[0;34m[\u001b[0m\u001b[0;36m0\u001b[0m\u001b[0;34m]\u001b[0m \u001b[0;34m*\u001b[0m \u001b[0mxy\u001b[0m\u001b[0;34m[\u001b[0m\u001b[0;36m1\u001b[0m\u001b[0;34m]\u001b[0m\u001b[0;34m)\u001b[0m\u001b[0;34m\u001b[0m\u001b[0;34m\u001b[0m\u001b[0m\n\u001b[0m",
      "\u001b[0;31mTypeError\u001b[0m: can't multiply sequence by non-int of type 'tuple'"
     ]
    }
   ],
   "source": [
    "sum(xy[0] * xy[1])"
   ]
  },
  {
   "cell_type": "code",
   "execution_count": 190,
   "metadata": {},
   "outputs": [
    {
     "data": {
      "text/plain": [
       "32.5"
      ]
     },
     "execution_count": 190,
     "metadata": {},
     "output_type": "execute_result"
    }
   ],
   "source": [
    "n * mean_y * mean_x"
   ]
  },
  {
   "cell_type": "code",
   "execution_count": 199,
   "metadata": {},
   "outputs": [
    {
     "data": {
      "text/plain": [
       "(2, 3)"
      ]
     },
     "execution_count": 199,
     "metadata": {},
     "output_type": "execute_result"
    }
   ],
   "source": [
    "xy[0]"
   ]
  },
  {
   "cell_type": "code",
   "execution_count": 193,
   "metadata": {},
   "outputs": [
    {
     "data": {
      "text/plain": [
       "(5, 8)"
      ]
     },
     "execution_count": 193,
     "metadata": {},
     "output_type": "execute_result"
    }
   ],
   "source": [
    "xy[1]"
   ]
  },
  {
   "cell_type": "code",
   "execution_count": 201,
   "metadata": {},
   "outputs": [
    {
     "data": {
      "text/plain": [
       "2.5"
      ]
     },
     "execution_count": 201,
     "metadata": {},
     "output_type": "execute_result"
    }
   ],
   "source": [
    "mean_x"
   ]
  },
  {
   "cell_type": "code",
   "execution_count": 206,
   "metadata": {},
   "outputs": [
    {
     "data": {
      "text/plain": [
       "[-0.5, 0.5]"
      ]
     },
     "execution_count": 206,
     "metadata": {},
     "output_type": "execute_result"
    }
   ],
   "source": [
    "[(x - mean_x) for x in xy[0]]"
   ]
  },
  {
   "cell_type": "code",
   "execution_count": 207,
   "metadata": {},
   "outputs": [
    {
     "data": {
      "text/plain": [
       "[-1.5, 1.5]"
      ]
     },
     "execution_count": 207,
     "metadata": {},
     "output_type": "execute_result"
    }
   ],
   "source": [
    "[(y - mean_y) for y in xy[1]]"
   ]
  },
  {
   "cell_type": "code",
   "execution_count": 208,
   "metadata": {},
   "outputs": [],
   "source": [
    "test1 = [(x - mean_x) for x in xy[0]]\n",
    "test2 = [(y - mean_y) for y in xy[1]]"
   ]
  },
  {
   "cell_type": "code",
   "execution_count": 209,
   "metadata": {},
   "outputs": [],
   "source": [
    "SS_xy = 0\n",
    "for i in range(len(test1)):\n",
    "    SS_xy += test1[i]*test2[i]"
   ]
  },
  {
   "cell_type": "code",
   "execution_count": 210,
   "metadata": {},
   "outputs": [
    {
     "data": {
      "text/plain": [
       "1.5"
      ]
     },
     "execution_count": 210,
     "metadata": {},
     "output_type": "execute_result"
    }
   ],
   "source": [
    "SS_xy"
   ]
  },
  {
   "cell_type": "code",
   "execution_count": 213,
   "metadata": {},
   "outputs": [],
   "source": [
    "test3 = [(x - mean_x)**2 for x in xy[0]]"
   ]
  },
  {
   "cell_type": "code",
   "execution_count": 214,
   "metadata": {},
   "outputs": [
    {
     "data": {
      "text/plain": [
       "[0.25, 0.25]"
      ]
     },
     "execution_count": 214,
     "metadata": {},
     "output_type": "execute_result"
    }
   ],
   "source": [
    "test3"
   ]
  },
  {
   "cell_type": "code",
   "execution_count": 215,
   "metadata": {},
   "outputs": [
    {
     "data": {
      "text/plain": [
       "0.5"
      ]
     },
     "execution_count": 215,
     "metadata": {},
     "output_type": "execute_result"
    }
   ],
   "source": [
    "sum(test3)"
   ]
  },
  {
   "cell_type": "code",
   "execution_count": null,
   "metadata": {},
   "outputs": [],
   "source": [
    "if SS_xx != 0:\n",
    "    b_1 = SS_xy / SS_xx \n",
    "else:\n",
    "    b_1 = 0"
   ]
  },
  {
   "cell_type": "code",
   "execution_count": null,
   "metadata": {},
   "outputs": [],
   "source": []
  },
  {
   "cell_type": "code",
   "execution_count": null,
   "metadata": {},
   "outputs": [],
   "source": []
  },
  {
   "cell_type": "code",
   "execution_count": 223,
   "metadata": {},
   "outputs": [],
   "source": [
    "def cs(lst):\n",
    "    d = defaultdict(int)\n",
    "    \n",
    "    for element in lst:\n",
    "        d[element] += 1\n",
    "\n",
    "    output = []\n",
    "    for element in sorted(d.keys()):\n",
    "        for i in range(d[element]):\n",
    "            output.append(element)\n",
    "\n",
    "    return(output, d)"
   ]
  },
  {
   "cell_type": "code",
   "execution_count": 225,
   "metadata": {},
   "outputs": [
    {
     "data": {
      "text/plain": [
       "([1, 2, 3, 3], defaultdict(int, {1: 1, 3: 2, 2: 1}))"
      ]
     },
     "execution_count": 225,
     "metadata": {},
     "output_type": "execute_result"
    }
   ],
   "source": [
    "cs([1,3,3,2])"
   ]
  },
  {
   "cell_type": "code",
   "execution_count": 234,
   "metadata": {},
   "outputs": [
    {
     "data": {
      "text/plain": [
       "(['hi'], defaultdict(int, {'hi': 1}))"
      ]
     },
     "execution_count": 234,
     "metadata": {},
     "output_type": "execute_result"
    }
   ],
   "source": [
    "cs(['hi'])"
   ]
  },
  {
   "cell_type": "code",
   "execution_count": 233,
   "metadata": {},
   "outputs": [],
   "source": [
    "d = {}\n",
    "for i in range(4577891):\n",
    "    d[i] = 0"
   ]
  },
  {
   "cell_type": "code",
   "execution_count": null,
   "metadata": {},
   "outputs": [],
   "source": []
  },
  {
   "cell_type": "code",
   "execution_count": 238,
   "metadata": {},
   "outputs": [],
   "source": [
    "import random"
   ]
  },
  {
   "cell_type": "code",
   "execution_count": 241,
   "metadata": {},
   "outputs": [],
   "source": [
    "grid = [[0 for i in range(10)] for j in range(10)]"
   ]
  },
  {
   "cell_type": "code",
   "execution_count": 261,
   "metadata": {},
   "outputs": [],
   "source": [
    "def setup_ships():\n",
    "    for ship in [1,2,3,4,5]:\n",
    "        valid_block = False\n",
    "        while not valid_block:\n",
    "            row = random.randint(0,10)\n",
    "            col = random.randint(0,10)\n",
    "        \n",
    "            valid_block = True\n",
    "            #print(f'{col}')\n",
    "            for i in range(ship):\n",
    "                if grid[row][col + i] > 0:\n",
    "                    valid_block = False\n",
    "\n",
    "        for i in range(ship):\n",
    "            grid[row][col + i] = ship"
   ]
  },
  {
   "cell_type": "code",
   "execution_count": 262,
   "metadata": {},
   "outputs": [
    {
     "name": "stdout",
     "output_type": "stream",
     "text": [
      "0\n",
      "0\n",
      "0\n",
      "1\n",
      "0\n",
      "1\n",
      "0\n",
      "1\n",
      "2\n"
     ]
    },
    {
     "ename": "IndexError",
     "evalue": "list assignment index out of range",
     "output_type": "error",
     "traceback": [
      "\u001b[0;31m---------------------------------------------------------------------------\u001b[0m",
      "\u001b[0;31mIndexError\u001b[0m                                Traceback (most recent call last)",
      "\u001b[0;32m<ipython-input-262-400e3229ab6f>\u001b[0m in \u001b[0;36m<module>\u001b[0;34m()\u001b[0m\n\u001b[0;32m----> 1\u001b[0;31m \u001b[0msetup_ships\u001b[0m\u001b[0;34m(\u001b[0m\u001b[0;34m)\u001b[0m\u001b[0;34m\u001b[0m\u001b[0;34m\u001b[0m\u001b[0m\n\u001b[0m",
      "\u001b[0;32m<ipython-input-261-05fec23115d5>\u001b[0m in \u001b[0;36msetup_ships\u001b[0;34m()\u001b[0m\n\u001b[1;32m     15\u001b[0m \u001b[0;34m\u001b[0m\u001b[0m\n\u001b[1;32m     16\u001b[0m         \u001b[0;32mfor\u001b[0m \u001b[0mi\u001b[0m \u001b[0;32min\u001b[0m \u001b[0mrange\u001b[0m\u001b[0;34m(\u001b[0m\u001b[0mship\u001b[0m\u001b[0;34m)\u001b[0m\u001b[0;34m:\u001b[0m\u001b[0;34m\u001b[0m\u001b[0;34m\u001b[0m\u001b[0m\n\u001b[0;32m---> 17\u001b[0;31m             \u001b[0mgrid\u001b[0m\u001b[0;34m[\u001b[0m\u001b[0mrow\u001b[0m\u001b[0;34m]\u001b[0m\u001b[0;34m[\u001b[0m\u001b[0mcol\u001b[0m \u001b[0;34m+\u001b[0m \u001b[0mi\u001b[0m\u001b[0;34m]\u001b[0m \u001b[0;34m=\u001b[0m \u001b[0mship\u001b[0m\u001b[0;34m\u001b[0m\u001b[0;34m\u001b[0m\u001b[0m\n\u001b[0m",
      "\u001b[0;31mIndexError\u001b[0m: list assignment index out of range"
     ]
    }
   ],
   "source": [
    "setup_ships()"
   ]
  },
  {
   "cell_type": "code",
   "execution_count": 248,
   "metadata": {},
   "outputs": [
    {
     "data": {
      "text/plain": [
       "10"
      ]
     },
     "execution_count": 248,
     "metadata": {},
     "output_type": "execute_result"
    }
   ],
   "source": [
    "len(grid)"
   ]
  },
  {
   "cell_type": "code",
   "execution_count": null,
   "metadata": {},
   "outputs": [],
   "source": [
    "      return data\n",
    "    PORT = 5002\n",
    "            p = f.read()\n",
    "    def add_player(self, filename):\n",
    "        ret = self.send_to_server(m)\n",
    "        if not ret == \"SUCCESS\\n\":\n",
    "import socket\n",
    "            raise Exception(\"Failed to add player from filename {}\".format(filename))\n",
    "    IP = \"127.0.0.1\"\n",
    "\n",
    "        while data == '' or not data[-1] == \"\\n\":\n",
    "    def send_to_server(self, msg):\n",
    "        clientsocket.send(\"{}EOM\".format(msg).encode('utf-8'))\n",
    "\n",
    "class Communicator:\n",
    "        clientsocket.close()\n",
    "        clientsocket.connect((Communicator.IP, Communicator.PORT))\n",
    "        clientsocket = socket.socket(socket.AF_INET, socket.SOCK_STREAM)\n",
    "\n",
    "        m = js.dumps({\"cmd\":\"ADD\", \"syn\":0, \"name\":\"Exam\", \"data\":p})\n",
    "\n",
    "        with open(filename) as f: \n",
    "            data += clientsocket.recv(1024).decode('utf-8')\n",
    "        data = ''"
   ]
  },
  {
   "cell_type": "code",
   "execution_count": null,
   "metadata": {},
   "outputs": [],
   "source": [
    "      return data\n",
    "    PORT = 5002\n",
    "            p = f.read()\n",
    "    def add_player(self, filename):\n",
    "        ret = self.send_to_server(m)\n",
    "        if not ret == \"SUCCESS\\n\":\n",
    "            \n",
    "            raise Exception(\"Failed to add player from filename {}\".format(filename))\n",
    "    IP = \"127.0.0.1\"\n",
    "\n",
    "\n",
    "\n",
    "        m = js.dumps({\"cmd\":\"ADD\", \"syn\":0, \"name\":\"Exam\", \"data\":p})\n",
    "\n",
    "        with open(filename) as f: \n",
    "\n"
   ]
  },
  {
   "cell_type": "code",
   "execution_count": 263,
   "metadata": {},
   "outputs": [],
   "source": [
    "import socket\n",
    "import json as js\n",
    "class Communicator:\n",
    "    PORT = 5002\n",
    "    IP = \"127.0.0.1\"\n",
    "    \n",
    "    def send_to_server(self, msg):\n",
    "        clientsocket = socket.socket(socket.AF_INET, socket.SOCK_STREAM)\n",
    "        clientsocket.connect((Communicator.IP, Communicator.PORT))\n",
    "        clientsocket.send(\"{}EOM\".format(msg).encode('utf-8'))\n",
    "        data = ''\n",
    "        while data == '' or not data[-1] == \"\\n\":\n",
    "            data += clientsocket.recv(1024).decode('utf-8')\n",
    "            \n",
    "        clientsocket.close()\n",
    "        \n",
    "    def add_player(self, filename):\n",
    "        with open(filename) as f:\n",
    "            p = f.read()\n",
    "            \n",
    "        m = js.dumps({\"cmd\":\"ADD\", \"syn\":0, \"name\":\"Exam\", \"data\":p})\n",
    "        ret = self.send_to_server(m)\n",
    "        if not ret == \"SUCCESS\\n\":\n",
    "            raise Exception(\"Failed to add player from filename {}\".format(filename))\n"
   ]
  },
  {
   "cell_type": "code",
   "execution_count": null,
   "metadata": {},
   "outputs": [],
   "source": [
    "for x in lst:\n",
    "    count = sum(x % 2)"
   ]
  }
 ],
 "metadata": {
  "kernelspec": {
   "display_name": "Python 3",
   "language": "python",
   "name": "python3"
  },
  "language_info": {
   "codemirror_mode": {
    "name": "ipython",
    "version": 3
   },
   "file_extension": ".py",
   "mimetype": "text/x-python",
   "name": "python",
   "nbconvert_exporter": "python",
   "pygments_lexer": "ipython3",
   "version": "3.6.8"
  }
 },
 "nbformat": 4,
 "nbformat_minor": 2
}
