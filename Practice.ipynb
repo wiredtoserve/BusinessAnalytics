{
 "cells": [
  {
   "cell_type": "code",
   "execution_count": 41,
   "metadata": {},
   "outputs": [],
   "source": [
    "import csv"
   ]
  },
  {
   "cell_type": "markdown",
   "metadata": {},
   "source": [
    "## Midsem 2018"
   ]
  },
  {
   "cell_type": "markdown",
   "metadata": {},
   "source": [
    "### Question 1"
   ]
  },
  {
   "cell_type": "code",
   "execution_count": 1,
   "metadata": {},
   "outputs": [],
   "source": [
    "number = 1234"
   ]
  },
  {
   "cell_type": "code",
   "execution_count": 4,
   "metadata": {},
   "outputs": [
    {
     "data": {
      "text/plain": [
       "'1234'"
      ]
     },
     "execution_count": 4,
     "metadata": {},
     "output_type": "execute_result"
    }
   ],
   "source": [
    "str(number)"
   ]
  },
  {
   "cell_type": "code",
   "execution_count": 36,
   "metadata": {},
   "outputs": [],
   "source": [
    "def odd_num(number):\n",
    "    mystring = str(number)\n",
    "    for i in range(0,len(mystring),2):\n",
    "        if int(mystring[i]) % 2 == 0:\n",
    "            return False\n",
    "    return True"
   ]
  },
  {
   "cell_type": "code",
   "execution_count": 34,
   "metadata": {},
   "outputs": [
    {
     "data": {
      "text/plain": [
       "1"
      ]
     },
     "execution_count": 34,
     "metadata": {},
     "output_type": "execute_result"
    }
   ],
   "source": [
    "5 % 2"
   ]
  },
  {
   "cell_type": "code",
   "execution_count": 37,
   "metadata": {},
   "outputs": [
    {
     "name": "stdout",
     "output_type": "stream",
     "text": [
      "5\n",
      "5\n",
      "5\n"
     ]
    },
    {
     "data": {
      "text/plain": [
       "True"
      ]
     },
     "execution_count": 37,
     "metadata": {},
     "output_type": "execute_result"
    }
   ],
   "source": [
    "odd_num(525456)"
   ]
  },
  {
   "cell_type": "code",
   "execution_count": 38,
   "metadata": {},
   "outputs": [
    {
     "name": "stdout",
     "output_type": "stream",
     "text": [
      "1\n",
      "3\n",
      "4\n"
     ]
    },
    {
     "data": {
      "text/plain": [
       "False"
      ]
     },
     "execution_count": 38,
     "metadata": {},
     "output_type": "execute_result"
    }
   ],
   "source": [
    "odd_num(123446)"
   ]
  },
  {
   "cell_type": "code",
   "execution_count": 39,
   "metadata": {},
   "outputs": [
    {
     "name": "stdout",
     "output_type": "stream",
     "text": [
      "1\n",
      "1\n",
      "0\n"
     ]
    },
    {
     "data": {
      "text/plain": [
       "False"
      ]
     },
     "execution_count": 39,
     "metadata": {},
     "output_type": "execute_result"
    }
   ],
   "source": [
    "odd_num(121202)"
   ]
  },
  {
   "cell_type": "code",
   "execution_count": 40,
   "metadata": {},
   "outputs": [
    {
     "name": "stdout",
     "output_type": "stream",
     "text": [
      "1\n"
     ]
    },
    {
     "data": {
      "text/plain": [
       "True"
      ]
     },
     "execution_count": 40,
     "metadata": {},
     "output_type": "execute_result"
    }
   ],
   "source": [
    "odd_num(1)"
   ]
  },
  {
   "cell_type": "code",
   "execution_count": null,
   "metadata": {},
   "outputs": [],
   "source": []
  },
  {
   "cell_type": "markdown",
   "metadata": {},
   "source": [
    "### Question 2"
   ]
  },
  {
   "cell_type": "code",
   "execution_count": 42,
   "metadata": {},
   "outputs": [],
   "source": [
    "with open('test.csv', 'w') as f:\n",
    "    f.write(\"\"\"Date,X,Y,Count\n",
    "1/1/2018,100,100,15\n",
    "1/1/2018, 10,-13, 5\n",
    "1/1/2018,100,100, 7\"\"\")\n",
    "    "
   ]
  },
  {
   "cell_type": "code",
   "execution_count": 102,
   "metadata": {},
   "outputs": [],
   "source": [
    "def tally_by_location(filename):\n",
    "    d = {}\n",
    "    my_dd = defaultdict(int)\n",
    "    count = 0\n",
    "    f = open(filename)   # assume file exists\n",
    "    r = csv.reader(f)\n",
    "    next(r)\n",
    "    for row in r:\n",
    "        print ((int(row[1]), int(row[2])), row[3])\n",
    "        #my_dd[row] += 1\n",
    "        #d[(int(row[1]), int(row[2]))] += row[3]\n",
    "        #count = int(row[3])\n",
    "        my_dd[(row[1], row[2])] += int(row[3])\n",
    "\n",
    "    f.close()\n",
    "    return my_dd"
   ]
  },
  {
   "cell_type": "code",
   "execution_count": 103,
   "metadata": {},
   "outputs": [
    {
     "name": "stdout",
     "output_type": "stream",
     "text": [
      "(100, 100) 15\n",
      "(10, -13)  5\n",
      "(100, 100)  7\n"
     ]
    },
    {
     "data": {
      "text/plain": [
       "defaultdict(int, {('100', '100'): 22, (' 10', '-13'): 5})"
      ]
     },
     "execution_count": 103,
     "metadata": {},
     "output_type": "execute_result"
    }
   ],
   "source": [
    "tally_by_location('test.csv')"
   ]
  },
  {
   "cell_type": "code",
   "execution_count": 53,
   "metadata": {},
   "outputs": [],
   "source": [
    "from collections import defaultdict"
   ]
  },
  {
   "cell_type": "code",
   "execution_count": 78,
   "metadata": {},
   "outputs": [],
   "source": [
    "test = {}\n",
    "test[(100,200)] = 45"
   ]
  },
  {
   "cell_type": "code",
   "execution_count": 79,
   "metadata": {},
   "outputs": [
    {
     "data": {
      "text/plain": [
       "{(100, 200): 45}"
      ]
     },
     "execution_count": 79,
     "metadata": {},
     "output_type": "execute_result"
    }
   ],
   "source": [
    "test"
   ]
  },
  {
   "cell_type": "code",
   "execution_count": null,
   "metadata": {},
   "outputs": [],
   "source": []
  },
  {
   "cell_type": "markdown",
   "metadata": {},
   "source": [
    "### Question 3"
   ]
  },
  {
   "cell_type": "markdown",
   "metadata": {},
   "source": [
    "Write a python script that will function as a simple chatbot. It should loop taking text as input, and reply according to the following rules in the order written.\n",
    "\n",
    "The first time the input is \"hello\" or \"hi\", ask for the person's name. \n",
    "Do not ask for the name more than once. \n",
    "\n",
    "When they enter their name, reply \"Hello \" + the name. \n",
    "For subsequent \"hello\" or \"hi\", reply \"Hello \" + the person's name.\n",
    "\n",
    "If the input contains the word \"afraid\", reply \"Mid semester test\".\n",
    "\n",
    "If the input ends in a '?', reply \"I cannot answer, I am afraid\".\n",
    "\n",
    "If the input is \"bye\", exit the program.\n",
    "\n",
    "For all other input, reply \"Tell me more...\"\n",
    "\n",
    "Convert all input to lower case."
   ]
  },
  {
   "cell_type": "code",
   "execution_count": null,
   "metadata": {},
   "outputs": [],
   "source": []
  },
  {
   "cell_type": "code",
   "execution_count": 149,
   "metadata": {},
   "outputs": [
    {
     "name": "stdout",
     "output_type": "stream",
     "text": [
      "hi\n",
      "Hello. What is your name ?\n",
      "Mehul\n",
      "Hello Mehul\n",
      "hello\n",
      "Hello Mehul\n",
      "what are you doing?\n",
      "I cannot answer I am afraid\n",
      "why are you afraid?\n",
      "Mid semester test\n",
      "oh I see\n",
      "Tell me more...\n",
      "hi\n",
      "Hello Mehul\n",
      "byw\n",
      "Tell me more...\n",
      "bye\n",
      "exiting...\n"
     ]
    }
   ],
   "source": [
    "control = True\n",
    "\n",
    "count_hello = 0\n",
    "name = ''\n",
    "\n",
    "def input_response():\n",
    "    response = input()\n",
    "    return response\n",
    "    \n",
    "while (control):\n",
    "    \n",
    "    response = input_response()    \n",
    "    response = response.lower()\n",
    "    \n",
    "    text = response.split()\n",
    "    \n",
    "    if response == 'bye':\n",
    "        print('exiting...')\n",
    "        control = False\n",
    "        break\n",
    "        \n",
    "    elif response.split()[0] in ['hello', 'hi']:\n",
    "        count_hello += 1\n",
    "        if count_hello == 1:\n",
    "            print('Hello. What is your name ?')\n",
    "            name = input_response()\n",
    "            print('Hello {}'.format(name))\n",
    "            continue\n",
    "                            \n",
    "        elif count_hello > 1 and name:\n",
    "            print('Hello {}'.format(name))\n",
    "            continue\n",
    "    \n",
    "    elif ('afraid' in text) or ('afraid?' in text) :\n",
    "        print('Mid semester test')\n",
    "        continue\n",
    "            \n",
    "    elif text[-1][-1] == '?':\n",
    "        print('I cannot answer I am afraid')\n",
    "        continue\n",
    "        \n",
    "    else:\n",
    "        print('Tell me more...')\n",
    "        continue"
   ]
  },
  {
   "cell_type": "code",
   "execution_count": 108,
   "metadata": {},
   "outputs": [
    {
     "data": {
      "text/plain": [
       "'?'"
      ]
     },
     "execution_count": 108,
     "metadata": {},
     "output_type": "execute_result"
    }
   ],
   "source": [
    "'Hello me?'.split()[-1][-1]"
   ]
  },
  {
   "cell_type": "code",
   "execution_count": 114,
   "metadata": {},
   "outputs": [
    {
     "data": {
      "text/plain": [
       "False"
      ]
     },
     "execution_count": 114,
     "metadata": {},
     "output_type": "execute_result"
    }
   ],
   "source": [
    "['hello']  == 'hello'"
   ]
  },
  {
   "cell_type": "code",
   "execution_count": 131,
   "metadata": {},
   "outputs": [
    {
     "data": {
      "text/plain": [
       "['why', 'are', 'you', 'afraid?']"
      ]
     },
     "execution_count": 131,
     "metadata": {},
     "output_type": "execute_result"
    }
   ],
   "source": [
    "'why are you afraid?'.split()"
   ]
  },
  {
   "cell_type": "code",
   "execution_count": 132,
   "metadata": {},
   "outputs": [],
   "source": [
    "text = 'why are you afraid?'.split()"
   ]
  },
  {
   "cell_type": "code",
   "execution_count": 133,
   "metadata": {},
   "outputs": [
    {
     "data": {
      "text/plain": [
       "True"
      ]
     },
     "execution_count": 133,
     "metadata": {},
     "output_type": "execute_result"
    }
   ],
   "source": [
    "'afraid?' in text"
   ]
  },
  {
   "cell_type": "code",
   "execution_count": 135,
   "metadata": {},
   "outputs": [
    {
     "data": {
      "text/plain": [
       "'?'"
      ]
     },
     "execution_count": 135,
     "metadata": {},
     "output_type": "execute_result"
    }
   ],
   "source": [
    "text[-1][-1]"
   ]
  },
  {
   "cell_type": "code",
   "execution_count": 146,
   "metadata": {},
   "outputs": [
    {
     "data": {
      "text/plain": [
       "'?'"
      ]
     },
     "execution_count": 146,
     "metadata": {},
     "output_type": "execute_result"
    }
   ],
   "source": [
    "'tell?'.split()[-1][-1]"
   ]
  },
  {
   "cell_type": "code",
   "execution_count": null,
   "metadata": {},
   "outputs": [],
   "source": []
  },
  {
   "cell_type": "markdown",
   "metadata": {},
   "source": [
    "## Mid Semester 2017"
   ]
  },
  {
   "cell_type": "markdown",
   "metadata": {},
   "source": [
    "### Question 1"
   ]
  },
  {
   "cell_type": "code",
   "execution_count": 164,
   "metadata": {},
   "outputs": [],
   "source": [
    "def sum_first(mylist):\n",
    "    add = 0\n",
    "    if len(mylist) >= 1:\n",
    "        for i in range(0,len(mylist)):\n",
    "            print (str(mylist[i])[0])\n",
    "            add += int(str(mylist[i])[0])\n",
    "    return add"
   ]
  },
  {
   "cell_type": "code",
   "execution_count": 165,
   "metadata": {},
   "outputs": [
    {
     "name": "stdout",
     "output_type": "stream",
     "text": [
      "1\n",
      "4\n",
      "7\n"
     ]
    },
    {
     "data": {
      "text/plain": [
       "12"
      ]
     },
     "execution_count": 165,
     "metadata": {},
     "output_type": "execute_result"
    }
   ],
   "source": [
    "sum_first([12, 43, 71823])"
   ]
  },
  {
   "cell_type": "markdown",
   "metadata": {},
   "source": [
    "### Question 2"
   ]
  },
  {
   "cell_type": "code",
   "execution_count": 245,
   "metadata": {},
   "outputs": [],
   "source": [
    "def plot(mylist, value):\n",
    "    \n",
    "    star = '*'\n",
    "    \n",
    "    if value:\n",
    "        for i in mylist:\n",
    "            print('|',star*i)\n",
    "            \n",
    "    else:\n",
    "        dash = '-'\n",
    "        max_val = max(mylist)\n",
    "        count = 0\n",
    "        \n",
    "        \n",
    "        #for i in mylist:\n",
    "        #    print(star*i)\n",
    "        \n",
    "        for row in range(max_val):\n",
    "            for col in range(len(mylist)):\n",
    "                if row < (max_val - mylist[col]):\n",
    "                    print(' ',end='')\n",
    "                else:\n",
    "                    print(star,end='')\n",
    "                    \n",
    "            print('')\n",
    "            \n",
    "        \n",
    "        print(dash*len(mylist))\n",
    "            "
   ]
  },
  {
   "cell_type": "code",
   "execution_count": null,
   "metadata": {},
   "outputs": [],
   "source": []
  },
  {
   "cell_type": "code",
   "execution_count": 174,
   "metadata": {},
   "outputs": [
    {
     "name": "stdout",
     "output_type": "stream",
     "text": [
      "| *\n",
      "| ***\n",
      "| *****\n",
      "| *\n"
     ]
    }
   ],
   "source": [
    "plot([1,3,5,1], True)"
   ]
  },
  {
   "cell_type": "code",
   "execution_count": 246,
   "metadata": {},
   "outputs": [
    {
     "name": "stdout",
     "output_type": "stream",
     "text": [
      "  *    \n",
      "  *  * \n",
      " **  * \n",
      " ** ** \n",
      "*******\n",
      "-------\n"
     ]
    }
   ],
   "source": [
    "plot([1,3,5,1,2,4,1], False)"
   ]
  },
  {
   "cell_type": "code",
   "execution_count": 248,
   "metadata": {},
   "outputs": [
    {
     "name": "stdout",
     "output_type": "stream",
     "text": [
      "    *   \n",
      "  * *   \n",
      " ** * * \n",
      "***** **\n",
      "********\n",
      "********\n",
      "--------\n"
     ]
    }
   ],
   "source": [
    "plot([3,4,5,3,6,2,4,3], False)"
   ]
  },
  {
   "cell_type": "code",
   "execution_count": 234,
   "metadata": {},
   "outputs": [
    {
     "name": "stdout",
     "output_type": "stream",
     "text": [
      "*****"
     ]
    }
   ],
   "source": [
    "for i in range(5):\n",
    "    print('*',end='')"
   ]
  },
  {
   "cell_type": "markdown",
   "metadata": {},
   "source": [
    "### Question 3"
   ]
  },
  {
   "cell_type": "code",
   "execution_count": 232,
   "metadata": {},
   "outputs": [],
   "source": [
    "from collections import defaultdict\n",
    "import csv"
   ]
  },
  {
   "cell_type": "code",
   "execution_count": 176,
   "metadata": {},
   "outputs": [],
   "source": [
    "with open('test2.csv', 'w') as f:\n",
    "    f.write(\"\"\"Item,Price,Location\n",
    "1,2.50,Melbourne\n",
    "1,1.50,Perth\n",
    "2,5.52,Melbourne\n",
    "1,2.50,Sydney\n",
    "2,1.00,Perth\n",
    "3,6.12,Brisbane\"\"\")"
   ]
  },
  {
   "cell_type": "code",
   "execution_count": 199,
   "metadata": {},
   "outputs": [],
   "source": [
    "def freq_column(filename, col):\n",
    "    my_dd = defaultdict(int)\n",
    "    \n",
    "    if col in ('Item','Price','Location'):\n",
    "        f = open(filename)   # assume file exists\n",
    "        r = csv.DictReader(f)\n",
    "        #next(r)\n",
    "        for row in r:\n",
    "            print (row[col])\n",
    "            my_dd[row[col]] += 1\n",
    "\n",
    "        f.close()\n",
    "    return my_dd"
   ]
  },
  {
   "cell_type": "code",
   "execution_count": 200,
   "metadata": {},
   "outputs": [
    {
     "name": "stdout",
     "output_type": "stream",
     "text": [
      "1\n",
      "1\n",
      "2\n",
      "1\n",
      "2\n",
      "3\n"
     ]
    },
    {
     "data": {
      "text/plain": [
       "defaultdict(int, {'1': 3, '2': 2, '3': 1})"
      ]
     },
     "execution_count": 200,
     "metadata": {},
     "output_type": "execute_result"
    }
   ],
   "source": [
    "freq_column(\"test2.csv\", \"Item\")"
   ]
  },
  {
   "cell_type": "code",
   "execution_count": 196,
   "metadata": {},
   "outputs": [
    {
     "name": "stdout",
     "output_type": "stream",
     "text": [
      "Melbourne\n",
      "Perth\n",
      "Melbourne\n",
      "Sydney\n",
      "Perth\n",
      "Brisbane\n"
     ]
    },
    {
     "data": {
      "text/plain": [
       "defaultdict(int, {'Melbourne': 2, 'Perth': 2, 'Sydney': 1, 'Brisbane': 1})"
      ]
     },
     "execution_count": 196,
     "metadata": {},
     "output_type": "execute_result"
    }
   ],
   "source": [
    "freq_column(\"test2.csv\", \"Location\")"
   ]
  },
  {
   "cell_type": "code",
   "execution_count": null,
   "metadata": {},
   "outputs": [],
   "source": []
  },
  {
   "cell_type": "code",
   "execution_count": 228,
   "metadata": {},
   "outputs": [],
   "source": [
    "def freq_column2(filename, col):\n",
    "    d = {}\n",
    "    index = 2\n",
    "    \n",
    "    if col in ('Item','Price','Location'):\n",
    "        \n",
    "        if col == 'Item':\n",
    "            index = 0\n",
    "        elif col == 'Price':\n",
    "            index = 1\n",
    "        \n",
    "        f = open(filename)   # assume file exists\n",
    "        r = csv.reader(f)\n",
    "        next(r)\n",
    "        for row in r:\n",
    "            #print (row[2])\n",
    "            #print(d.keys())\n",
    "            if row[index] in d.keys():\n",
    "                d[row[index]] += 1\n",
    "            else:\n",
    "                d[row[index]] = 1\n",
    "            #my_dd[row[col]] += 1\n",
    "\n",
    "        f.close()\n",
    "    return d"
   ]
  },
  {
   "cell_type": "code",
   "execution_count": 229,
   "metadata": {},
   "outputs": [
    {
     "data": {
      "text/plain": [
       "{'Melbourne': 2, 'Perth': 2, 'Sydney': 1, 'Brisbane': 1}"
      ]
     },
     "execution_count": 229,
     "metadata": {},
     "output_type": "execute_result"
    }
   ],
   "source": [
    "freq_column2(\"test2.csv\", \"Location\")"
   ]
  },
  {
   "cell_type": "code",
   "execution_count": 230,
   "metadata": {},
   "outputs": [
    {
     "data": {
      "text/plain": [
       "{'1': 3, '2': 2, '3': 1}"
      ]
     },
     "execution_count": 230,
     "metadata": {},
     "output_type": "execute_result"
    }
   ],
   "source": [
    "freq_column2(\"test2.csv\", \"Item\")"
   ]
  },
  {
   "cell_type": "code",
   "execution_count": null,
   "metadata": {},
   "outputs": [],
   "source": []
  }
 ],
 "metadata": {
  "kernelspec": {
   "display_name": "Python 3",
   "language": "python",
   "name": "python3"
  },
  "language_info": {
   "codemirror_mode": {
    "name": "ipython",
    "version": 3
   },
   "file_extension": ".py",
   "mimetype": "text/x-python",
   "name": "python",
   "nbconvert_exporter": "python",
   "pygments_lexer": "ipython3",
   "version": "3.6.8"
  }
 },
 "nbformat": 4,
 "nbformat_minor": 2
}
