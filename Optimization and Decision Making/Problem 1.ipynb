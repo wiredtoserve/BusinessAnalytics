{
 "cells": [
  {
   "cell_type": "code",
   "execution_count": 1,
   "metadata": {},
   "outputs": [],
   "source": [
    "import pulp"
   ]
  },
  {
   "cell_type": "markdown",
   "metadata": {},
   "source": [
    "# Problem 1"
   ]
  },
  {
   "cell_type": "markdown",
   "metadata": {},
   "source": [
    "## Part 1"
   ]
  },
  {
   "cell_type": "code",
   "execution_count": 2,
   "metadata": {},
   "outputs": [],
   "source": [
    "#file containint the list of edges in graph G\n",
    "edge_list = open(\"graph2019.dat\")"
   ]
  },
  {
   "cell_type": "code",
   "execution_count": 3,
   "metadata": {},
   "outputs": [],
   "source": [
    "count = 0\n",
    "for i in edge_list:\n",
    "    count += 1"
   ]
  },
  {
   "cell_type": "code",
   "execution_count": 4,
   "metadata": {},
   "outputs": [
    {
     "data": {
      "text/plain": [
       "508"
      ]
     },
     "execution_count": 4,
     "metadata": {},
     "output_type": "execute_result"
    }
   ],
   "source": [
    "count"
   ]
  },
  {
   "cell_type": "code",
   "execution_count": 5,
   "metadata": {},
   "outputs": [],
   "source": [
    "from collections import defaultdict"
   ]
  },
  {
   "cell_type": "code",
   "execution_count": 6,
   "metadata": {},
   "outputs": [],
   "source": [
    "# e 1 14\n",
    "# e 2 37\n",
    "# edge node1 node 2\n",
    "\n",
    "#reads in data from edges file and stores edges\n",
    "\n",
    "edge_dd = defaultdict(int)\n",
    "graph_list = []\n",
    "\n",
    "with open(\"graph2019.dat\", 'r') as edge_list:\n",
    "    \n",
    "    for line in edge_list:\n",
    "        #print(line.split())\n",
    "        graph_list.append(line.split()[1:])\n",
    "        #edge_dd[line.split()[1]] = line.split()[2]\n",
    "        #edge_dd[line.split()[1]]\n"
   ]
  },
  {
   "cell_type": "code",
   "execution_count": 7,
   "metadata": {},
   "outputs": [],
   "source": [
    "conversion = lambda mylist:[(int(x), int(y)) for (x,y) in mylist]"
   ]
  },
  {
   "cell_type": "code",
   "execution_count": 8,
   "metadata": {},
   "outputs": [],
   "source": [
    "graph_list = conversion(graph_list)"
   ]
  },
  {
   "cell_type": "code",
   "execution_count": null,
   "metadata": {},
   "outputs": [],
   "source": [
    "graph_list"
   ]
  },
  {
   "cell_type": "code",
   "execution_count": 9,
   "metadata": {},
   "outputs": [],
   "source": [
    "# Upper bound of the colours \n",
    "n = 14"
   ]
  },
  {
   "cell_type": "code",
   "execution_count": 10,
   "metadata": {},
   "outputs": [],
   "source": [
    "nodes_list = []\n",
    "for i,j in graph_list:\n",
    "    nodes_list.append(i)\n",
    "    \n",
    "nodes_list = set(nodes_list)"
   ]
  },
  {
   "cell_type": "code",
   "execution_count": 11,
   "metadata": {},
   "outputs": [],
   "source": [
    "nodes = range(80)"
   ]
  },
  {
   "cell_type": "code",
   "execution_count": 12,
   "metadata": {},
   "outputs": [
    {
     "data": {
      "text/plain": [
       "range(0, 80)"
      ]
     },
     "execution_count": 12,
     "metadata": {},
     "output_type": "execute_result"
    }
   ],
   "source": [
    "nodes"
   ]
  },
  {
   "cell_type": "code",
   "execution_count": 26,
   "metadata": {},
   "outputs": [],
   "source": [
    "y = range(n)"
   ]
  },
  {
   "cell_type": "code",
   "execution_count": 14,
   "metadata": {},
   "outputs": [],
   "source": [
    "#initializes lp problem\n",
    "graph_colour_lp = pulp.LpProblem(\"Graph Colour\",pulp.LpMinimize)"
   ]
  },
  {
   "cell_type": "code",
   "execution_count": 15,
   "metadata": {},
   "outputs": [],
   "source": [
    "# variables x_ij to indicate whether node i is colored by color j;\n",
    "xij = pulp.LpVariable.dicts(\"x\",(nodes,y),0,1,pulp.LpInteger)\n",
    "#variables yj to indicate whether color j was used\n",
    "yj = pulp.LpVariable.dicts(\"y\",y,0,1,pulp.LpInteger)"
   ]
  },
  {
   "cell_type": "code",
   "execution_count": 16,
   "metadata": {},
   "outputs": [],
   "source": [
    "#objective is the sum of yj over all j\n",
    "obj = pulp.lpSum(yj[j] for j in y)"
   ]
  },
  {
   "cell_type": "code",
   "execution_count": 17,
   "metadata": {},
   "outputs": [],
   "source": [
    "graph_colour_lp += obj, \"Objective Function\""
   ]
  },
  {
   "cell_type": "code",
   "execution_count": 18,
   "metadata": {},
   "outputs": [
    {
     "data": {
      "text/plain": [
       "Graph Colour:\n",
       "MINIMIZE\n",
       "1*y_0 + 1*y_1 + 1*y_10 + 1*y_11 + 1*y_12 + 1*y_13 + 1*y_2 + 1*y_3 + 1*y_4 + 1*y_5 + 1*y_6 + 1*y_7 + 1*y_8 + 1*y_9 + 0\n",
       "VARIABLES\n",
       "0 <= y_0 <= 1 Integer\n",
       "0 <= y_1 <= 1 Integer\n",
       "0 <= y_10 <= 1 Integer\n",
       "0 <= y_11 <= 1 Integer\n",
       "0 <= y_12 <= 1 Integer\n",
       "0 <= y_13 <= 1 Integer\n",
       "0 <= y_2 <= 1 Integer\n",
       "0 <= y_3 <= 1 Integer\n",
       "0 <= y_4 <= 1 Integer\n",
       "0 <= y_5 <= 1 Integer\n",
       "0 <= y_6 <= 1 Integer\n",
       "0 <= y_7 <= 1 Integer\n",
       "0 <= y_8 <= 1 Integer\n",
       "0 <= y_9 <= 1 Integer"
      ]
     },
     "execution_count": 18,
     "metadata": {},
     "output_type": "execute_result"
    }
   ],
   "source": [
    "graph_colour_lp"
   ]
  },
  {
   "cell_type": "code",
   "execution_count": 19,
   "metadata": {},
   "outputs": [
    {
     "data": {
      "text/plain": [
       "{0: y_0,\n",
       " 1: y_1,\n",
       " 2: y_2,\n",
       " 3: y_3,\n",
       " 4: y_4,\n",
       " 5: y_5,\n",
       " 6: y_6,\n",
       " 7: y_7,\n",
       " 8: y_8,\n",
       " 9: y_9,\n",
       " 10: y_10,\n",
       " 11: y_11,\n",
       " 12: y_12,\n",
       " 13: y_13}"
      ]
     },
     "execution_count": 19,
     "metadata": {},
     "output_type": "execute_result"
    }
   ],
   "source": [
    "yj"
   ]
  },
  {
   "cell_type": "code",
   "execution_count": null,
   "metadata": {},
   "outputs": [],
   "source": [
    "xij"
   ]
  },
  {
   "cell_type": "code",
   "execution_count": 20,
   "metadata": {},
   "outputs": [],
   "source": [
    "#creates a 80x80 nested list of 0's to make adjacency matrix for graph G\n",
    "edges = []\n",
    "for i in range(0,len(nodes)):\n",
    "    edges.append([0]*len(nodes))"
   ]
  },
  {
   "cell_type": "code",
   "execution_count": 21,
   "metadata": {},
   "outputs": [
    {
     "data": {
      "text/plain": [
       "0"
      ]
     },
     "execution_count": 21,
     "metadata": {},
     "output_type": "execute_result"
    }
   ],
   "source": [
    "edges[79][14]"
   ]
  },
  {
   "cell_type": "code",
   "execution_count": 22,
   "metadata": {},
   "outputs": [],
   "source": [
    "for x,y in graph_list:\n",
    "    #print(f'Node {x} - Node {y}')\n",
    "    edges[x - 1][y - 1] = 1"
   ]
  },
  {
   "cell_type": "code",
   "execution_count": null,
   "metadata": {},
   "outputs": [],
   "source": [
    "graph_list"
   ]
  },
  {
   "cell_type": "code",
   "execution_count": 30,
   "metadata": {},
   "outputs": [
    {
     "data": {
      "text/plain": [
       "14"
      ]
     },
     "execution_count": 30,
     "metadata": {},
     "output_type": "execute_result"
    }
   ],
   "source": [
    "n"
   ]
  },
  {
   "cell_type": "code",
   "execution_count": 27,
   "metadata": {},
   "outputs": [],
   "source": [
    "#constraint s.t. each node uses exactly 1 color\n",
    "for r in nodes:\n",
    "    jsum = 0.0\n",
    "    for j in y:\n",
    "        jsum += xij[r][j]\n",
    "    graph_colour_lp += jsum == 1,\"\""
   ]
  },
  {
   "cell_type": "code",
   "execution_count": 28,
   "metadata": {},
   "outputs": [],
   "source": [
    "#constraint s.t. adjacent nodes do not have the same color\n",
    "for row in range(0,len(edges)):\n",
    "    for col in range(0, len(edges)):\n",
    "        if edges[row][col]==1:\n",
    "            for j in y:\n",
    "                graph_colour_lp += xij[row][j] + xij[col][j] <= 1,\"\""
   ]
  },
  {
   "cell_type": "code",
   "execution_count": 29,
   "metadata": {},
   "outputs": [],
   "source": [
    "#constraint s.t. if node i is assigned color k, color k is used\n",
    "for i in nodes:\n",
    "    for j in y:\n",
    "        graph_colour_lp += xij[i][j] <= yj[j],\"\""
   ]
  },
  {
   "cell_type": "code",
   "execution_count": 31,
   "metadata": {},
   "outputs": [],
   "source": [
    "#constraint for upper bound on # of colors used\n",
    "graph_colour_lp += pulp.lpSum(yj[j] for j in y)<= n,\"\""
   ]
  },
  {
   "cell_type": "code",
   "execution_count": null,
   "metadata": {},
   "outputs": [],
   "source": [
    "graph_colour_lp"
   ]
  },
  {
   "cell_type": "code",
   "execution_count": 33,
   "metadata": {},
   "outputs": [
    {
     "name": "stdout",
     "output_type": "stream",
     "text": [
      "Solution: Optimal\n"
     ]
    }
   ],
   "source": [
    "#solves lp and prints optimal solution/objective value\n",
    "graph_colour_lp.solve()\n",
    "status = str(pulp.LpStatus[graph_colour_lp.status])\n",
    "print(\"Solution: \"+ status)"
   ]
  },
  {
   "cell_type": "code",
   "execution_count": 34,
   "metadata": {},
   "outputs": [
    {
     "name": "stdout",
     "output_type": "stream",
     "text": [
      "Optimal Solution:\n",
      "Xij=1 values:\n",
      "x_0_13\n",
      "x_1_10\n",
      "x_2_11\n",
      "x_3_10\n",
      "x_4_2\n",
      "x_5_2\n",
      "x_6_11\n",
      "x_7_10\n",
      "x_8_7\n",
      "x_9_1\n",
      "x_10_8\n",
      "x_11_4\n",
      "x_12_10\n",
      "x_13_7\n",
      "x_14_10\n",
      "x_15_1\n",
      "x_16_3\n",
      "x_17_10\n",
      "x_18_3\n",
      "x_19_6\n",
      "x_20_11\n",
      "x_21_8\n",
      "x_22_6\n",
      "x_23_13\n",
      "x_24_6\n",
      "x_25_13\n",
      "x_26_10\n",
      "x_27_3\n",
      "x_28_7\n",
      "x_29_11\n",
      "x_30_8\n",
      "x_31_8\n",
      "x_32_1\n",
      "x_33_13\n",
      "x_34_10\n",
      "x_35_13\n",
      "x_36_13\n",
      "x_37_1\n",
      "x_38_4\n",
      "x_39_8\n",
      "x_40_8\n",
      "x_41_13\n",
      "x_42_8\n",
      "x_43_2\n",
      "x_44_8\n",
      "x_45_6\n",
      "x_46_6\n",
      "x_47_3\n",
      "x_48_13\n",
      "x_49_1\n",
      "x_50_13\n",
      "x_51_2\n",
      "x_52_8\n",
      "x_53_10\n",
      "x_54_7\n",
      "x_55_11\n",
      "x_56_8\n",
      "x_57_6\n",
      "x_58_6\n",
      "x_59_2\n",
      "x_60_8\n",
      "x_61_8\n",
      "x_62_2\n",
      "x_63_2\n",
      "x_64_8\n",
      "x_65_8\n",
      "x_66_10\n",
      "x_67_2\n",
      "x_68_13\n",
      "x_69_8\n",
      "x_70_10\n",
      "x_71_4\n",
      "x_72_7\n",
      "x_73_10\n",
      "x_74_6\n",
      "x_75_1\n",
      "x_76_11\n",
      "x_77_10\n",
      "x_78_6\n",
      "x_79_10\n"
     ]
    }
   ],
   "source": [
    "print(\"Optimal Solution:\")\n",
    "print(\"Xij=1 values:\")\n",
    "for i in nodes:\n",
    "    for j in y:\n",
    "        if xij[i][j].value() == 1:\n",
    "            print(xij[i][j])"
   ]
  },
  {
   "cell_type": "code",
   "execution_count": 35,
   "metadata": {},
   "outputs": [
    {
     "name": "stdout",
     "output_type": "stream",
     "text": [
      "Yj values:\n",
      "y_0 0.0\n",
      "y_1 1.0\n",
      "y_2 1.0\n",
      "y_3 1.0\n",
      "y_4 1.0\n",
      "y_5 0.0\n",
      "y_6 1.0\n",
      "y_7 1.0\n",
      "y_8 1.0\n",
      "y_9 0.0\n",
      "y_10 1.0\n",
      "y_11 1.0\n",
      "y_12 0.0\n",
      "y_13 1.0\n"
     ]
    }
   ],
   "source": [
    "print(\"Yj values:\")\n",
    "for j in y:\n",
    "    print(yj[j], yj[j].value())"
   ]
  },
  {
   "cell_type": "code",
   "execution_count": 36,
   "metadata": {},
   "outputs": [
    {
     "name": "stdout",
     "output_type": "stream",
     "text": [
      "Chromatic Number:  10.0\n"
     ]
    }
   ],
   "source": [
    "print(\"Chromatic Number: \", graph_colour_lp.objective.value())"
   ]
  },
  {
   "cell_type": "code",
   "execution_count": null,
   "metadata": {},
   "outputs": [],
   "source": []
  },
  {
   "cell_type": "markdown",
   "metadata": {},
   "source": [
    "## Part 2"
   ]
  },
  {
   "cell_type": "code",
   "execution_count": 37,
   "metadata": {},
   "outputs": [],
   "source": [
    "# creates a nested list of tuples with each [row][col] index representing\n",
    "# the coordinate location of each box in the sudoku puzzle\n",
    "sudoku_list = []\n",
    "for row in range(1, 10):\n",
    "    mylist = []\n",
    "    for col in range(1,10):\n",
    "        index = (row, col)\n",
    "        mylist.append(index)\n",
    "    sudoku_list.append(mylist)"
   ]
  },
  {
   "cell_type": "code",
   "execution_count": 38,
   "metadata": {},
   "outputs": [
    {
     "data": {
      "text/plain": [
       "[[(1, 1), (1, 2), (1, 3), (1, 4), (1, 5), (1, 6), (1, 7), (1, 8), (1, 9)],\n",
       " [(2, 1), (2, 2), (2, 3), (2, 4), (2, 5), (2, 6), (2, 7), (2, 8), (2, 9)],\n",
       " [(3, 1), (3, 2), (3, 3), (3, 4), (3, 5), (3, 6), (3, 7), (3, 8), (3, 9)],\n",
       " [(4, 1), (4, 2), (4, 3), (4, 4), (4, 5), (4, 6), (4, 7), (4, 8), (4, 9)],\n",
       " [(5, 1), (5, 2), (5, 3), (5, 4), (5, 5), (5, 6), (5, 7), (5, 8), (5, 9)],\n",
       " [(6, 1), (6, 2), (6, 3), (6, 4), (6, 5), (6, 6), (6, 7), (6, 8), (6, 9)],\n",
       " [(7, 1), (7, 2), (7, 3), (7, 4), (7, 5), (7, 6), (7, 7), (7, 8), (7, 9)],\n",
       " [(8, 1), (8, 2), (8, 3), (8, 4), (8, 5), (8, 6), (8, 7), (8, 8), (8, 9)],\n",
       " [(9, 1), (9, 2), (9, 3), (9, 4), (9, 5), (9, 6), (9, 7), (9, 8), (9, 9)]]"
      ]
     },
     "execution_count": 38,
     "metadata": {},
     "output_type": "execute_result"
    }
   ],
   "source": [
    "sudoku_list"
   ]
  },
  {
   "cell_type": "code",
   "execution_count": 39,
   "metadata": {},
   "outputs": [],
   "source": [
    "# creates 9 lists of \"boxes\"\n",
    "# Each list containing the coordinates of all squares in each of the 9 boxes\n",
    "box_list = []\n",
    "for row in range(0,3):\n",
    "    for col in range(0,3):\n",
    "        box = [sudoku_list[3 * row + i][3 * col + j] for i in range(0,3) for j in range(0,3)]\n",
    "        box_list.append(box)"
   ]
  },
  {
   "cell_type": "code",
   "execution_count": 40,
   "metadata": {},
   "outputs": [
    {
     "data": {
      "text/plain": [
       "[[(1, 1), (1, 2), (1, 3), (2, 1), (2, 2), (2, 3), (3, 1), (3, 2), (3, 3)],\n",
       " [(1, 4), (1, 5), (1, 6), (2, 4), (2, 5), (2, 6), (3, 4), (3, 5), (3, 6)],\n",
       " [(1, 7), (1, 8), (1, 9), (2, 7), (2, 8), (2, 9), (3, 7), (3, 8), (3, 9)],\n",
       " [(4, 1), (4, 2), (4, 3), (5, 1), (5, 2), (5, 3), (6, 1), (6, 2), (6, 3)],\n",
       " [(4, 4), (4, 5), (4, 6), (5, 4), (5, 5), (5, 6), (6, 4), (6, 5), (6, 6)],\n",
       " [(4, 7), (4, 8), (4, 9), (5, 7), (5, 8), (5, 9), (6, 7), (6, 8), (6, 9)],\n",
       " [(7, 1), (7, 2), (7, 3), (8, 1), (8, 2), (8, 3), (9, 1), (9, 2), (9, 3)],\n",
       " [(7, 4), (7, 5), (7, 6), (8, 4), (8, 5), (8, 6), (9, 4), (9, 5), (9, 6)],\n",
       " [(7, 7), (7, 8), (7, 9), (8, 7), (8, 8), (8, 9), (9, 7), (9, 8), (9, 9)]]"
      ]
     },
     "execution_count": 40,
     "metadata": {},
     "output_type": "execute_result"
    }
   ],
   "source": [
    "box_list"
   ]
  },
  {
   "cell_type": "code",
   "execution_count": 41,
   "metadata": {},
   "outputs": [],
   "source": [
    "# initialize lp\n",
    "sudoku_lp = pulp.LpProblem(\"Sudoku LP\", pulp.LpMinimize)"
   ]
  },
  {
   "cell_type": "code",
   "execution_count": 42,
   "metadata": {},
   "outputs": [
    {
     "data": {
      "text/plain": [
       "Sudoku LP:\n",
       "MINIMIZE\n",
       "None\n",
       "VARIABLES"
      ]
     },
     "execution_count": 42,
     "metadata": {},
     "output_type": "execute_result"
    }
   ],
   "source": [
    "sudoku_lp"
   ]
  },
  {
   "cell_type": "code",
   "execution_count": 43,
   "metadata": {},
   "outputs": [],
   "source": [
    "# initialize # of rows and columns in puzzle, and # of \"colors\"\n",
    "rows = range(1,10)\n",
    "columns = range(1,10)\n",
    "numbers = range(1,10)"
   ]
  },
  {
   "cell_type": "code",
   "execution_count": 44,
   "metadata": {},
   "outputs": [],
   "source": [
    "# initialize the x and y variables\n",
    "# x is 3 dimensional with row and column (representing location in puzzle), and numbers (1-9 \"colors\")\n",
    "# y is 1 dimensional array of \"colors\" (numbers 1-9)\n",
    "\n",
    "x_rck = pulp.LpVariable.dicts(\"x\",(rows,columns,numbers),0,1,pulp.LpInteger)\n",
    "yk = pulp.LpVariable.dicts(\"yk\",numbers,0,1,pulp.LpInteger)"
   ]
  },
  {
   "cell_type": "code",
   "execution_count": 45,
   "metadata": {},
   "outputs": [
    {
     "data": {
      "text/plain": [
       "{1: yk_1,\n",
       " 2: yk_2,\n",
       " 3: yk_3,\n",
       " 4: yk_4,\n",
       " 5: yk_5,\n",
       " 6: yk_6,\n",
       " 7: yk_7,\n",
       " 8: yk_8,\n",
       " 9: yk_9}"
      ]
     },
     "execution_count": 45,
     "metadata": {},
     "output_type": "execute_result"
    }
   ],
   "source": [
    "yk"
   ]
  },
  {
   "cell_type": "code",
   "execution_count": 46,
   "metadata": {},
   "outputs": [],
   "source": [
    "# objective: sum of y over all k\n",
    "obj = pulp.lpSum(yk[k] for k in numbers)\n",
    "sudoku_lp += obj, \"Objective Function\""
   ]
  },
  {
   "cell_type": "code",
   "execution_count": 47,
   "metadata": {},
   "outputs": [
    {
     "data": {
      "text/plain": [
       "Sudoku LP:\n",
       "MINIMIZE\n",
       "1*yk_1 + 1*yk_2 + 1*yk_3 + 1*yk_4 + 1*yk_5 + 1*yk_6 + 1*yk_7 + 1*yk_8 + 1*yk_9 + 0\n",
       "VARIABLES\n",
       "0 <= yk_1 <= 1 Integer\n",
       "0 <= yk_2 <= 1 Integer\n",
       "0 <= yk_3 <= 1 Integer\n",
       "0 <= yk_4 <= 1 Integer\n",
       "0 <= yk_5 <= 1 Integer\n",
       "0 <= yk_6 <= 1 Integer\n",
       "0 <= yk_7 <= 1 Integer\n",
       "0 <= yk_8 <= 1 Integer\n",
       "0 <= yk_9 <= 1 Integer"
      ]
     },
     "execution_count": 47,
     "metadata": {},
     "output_type": "execute_result"
    }
   ],
   "source": [
    "sudoku_lp"
   ]
  },
  {
   "cell_type": "code",
   "execution_count": 48,
   "metadata": {},
   "outputs": [],
   "source": [
    "# constaint s.t. if node i is assigned color k, color k is used\n",
    "for row in rows:\n",
    "    for col in columns:\n",
    "        for k in numbers:\n",
    "            sudoku_lp += x_rck[row][col][k]<= yk[k],\"\""
   ]
  },
  {
   "cell_type": "code",
   "execution_count": 49,
   "metadata": {},
   "outputs": [],
   "source": [
    "# constraint s.t. each node uses exactly one color\n",
    "for row in rows:\n",
    "    for col in columns:\n",
    "        sudoku_lp += pulp.lpSum([x_rck[row][col][k] for k in numbers]) == 1,\"\""
   ]
  },
  {
   "cell_type": "code",
   "execution_count": 50,
   "metadata": {},
   "outputs": [],
   "source": [
    "# constraint s.t. no nodes in the same box have the same number\n",
    "for k in numbers:\n",
    "    for box in box_list:\n",
    "        sudoku_lp += pulp.lpSum([x_rck[row][col][k] for (row, col) in box]) <= 1,\"\""
   ]
  },
  {
   "cell_type": "code",
   "execution_count": 51,
   "metadata": {},
   "outputs": [],
   "source": [
    "# constraint s.t. no nodes in the same column have the same number\n",
    "for k in numbers:\n",
    "    for row in rows:\n",
    "        sudoku_lp += pulp.lpSum([x_rck[row][col][k] for col in columns]) <= 1,\"\""
   ]
  },
  {
   "cell_type": "code",
   "execution_count": 52,
   "metadata": {},
   "outputs": [],
   "source": [
    "# constraint s.t. no nodes in the same column have the same number\n",
    "for k in numbers:\n",
    "    for col in columns:\n",
    "        sudoku_lp += pulp.lpSum([x_rck[row][col][k] for row in rows]) <= 1,\"\""
   ]
  },
  {
   "cell_type": "code",
   "execution_count": 53,
   "metadata": {},
   "outputs": [],
   "source": [
    "# constraint s.t. ALL 9 numbers are used\n",
    "sudoku_lp += pulp.lpSum(yk[k] for k in numbers)== 9,\"\""
   ]
  },
  {
   "cell_type": "code",
   "execution_count": 54,
   "metadata": {},
   "outputs": [],
   "source": [
    "#constraints for pre-filled boxes given in puzzle\n",
    "sudoku_lp += x_rck[1][1][6] == 1,\"\"\n",
    "sudoku_lp += x_rck[2][1][9] == 1,\"\"\n",
    "sudoku_lp += x_rck[4][1][2] == 1,\"\"\n",
    "sudoku_lp += x_rck[9][1][8] == 1,\"\"\n",
    "\n",
    "sudoku_lp += x_rck[3][2][7] == 1,\"\"\n",
    "sudoku_lp += x_rck[6][2][8] == 1,\"\"\n",
    "\n",
    "sudoku_lp += x_rck[6][3][9] == 1,\"\"\n",
    "\n",
    "sudoku_lp += x_rck[4][4][6] == 1,\"\"\n",
    "\n",
    "sudoku_lp += x_rck[3][5][4] == 1,\"\"\n",
    "sudoku_lp += x_rck[4][5][1] == 1,\"\"\n",
    "sudoku_lp += x_rck[7][5][6] == 1,\"\"\n",
    "\n",
    "sudoku_lp += x_rck[1][6][8] == 1,\"\"\n",
    "sudoku_lp += x_rck[2][6][6] == 1,\"\"\n",
    "sudoku_lp += x_rck[6][6][2] == 1,\"\"\n",
    "sudoku_lp += x_rck[9][6][1] == 1,\"\"\n",
    "\n",
    "sudoku_lp += x_rck[1][7][9] == 1,\"\"\n",
    "sudoku_lp += x_rck[2][7][1] == 1,\"\"\n",
    "sudoku_lp += x_rck[5][7][2] == 1,\"\"\n",
    "sudoku_lp += x_rck[9][7][6] == 1,\"\"\n",
    "\n",
    "sudoku_lp += x_rck[1][8][4] == 1,\"\"\n",
    "sudoku_lp += x_rck[8][8][3] == 1,\"\"\n",
    "\n",
    "sudoku_lp += x_rck[7][9][5] == 1,\"\""
   ]
  },
  {
   "cell_type": "code",
   "execution_count": null,
   "metadata": {},
   "outputs": [],
   "source": [
    "sudoku_lp"
   ]
  },
  {
   "cell_type": "code",
   "execution_count": 56,
   "metadata": {},
   "outputs": [
    {
     "name": "stdout",
     "output_type": "stream",
     "text": [
      "Solution: Optimal\n"
     ]
    }
   ],
   "source": [
    "# solves lp\n",
    "sudoku_lp.solve()\n",
    "status = str(pulp.LpStatus[sudoku_lp.status])\n",
    "print(\"Solution: \"+ status)"
   ]
  },
  {
   "cell_type": "code",
   "execution_count": 57,
   "metadata": {},
   "outputs": [
    {
     "name": "stdout",
     "output_type": "stream",
     "text": [
      "+=======+=======+=======+\n",
      "| 6 2 5 | 1 7 8 | 9 4 3 | \n",
      "| 9 4 8 | 3 2 6 | 1 5 7 | \n",
      "| 3 7 1 | 9 4 5 | 8 6 2 | \n",
      "+=======+=======+=======+\n",
      "| 2 5 7 | 6 1 9 | 3 8 4 | \n",
      "| 4 6 3 | 5 8 7 | 2 9 1 | \n",
      "| 1 8 9 | 4 3 2 | 5 7 6 | \n",
      "+=======+=======+=======+\n",
      "| 7 9 2 | 8 6 3 | 4 1 5 | \n",
      "| 5 1 6 | 2 9 4 | 7 3 8 | \n",
      "| 8 3 4 | 7 5 1 | 6 2 9 | \n",
      "+=======+=======+=======+\n"
     ]
    }
   ],
   "source": [
    "#prints out optimal solution if one is found\n",
    "if status == \"Optimal\":\n",
    "    for row in rows:\n",
    "        line = \"\"\n",
    "        if row in [1,4,7]: print(\"+=======+=======+=======+\")\n",
    "        for col in columns:\n",
    "            for k in numbers:\n",
    "                if x_rck[row][col][k].value() == 1:\n",
    "                    if col in [1,4,7]: line += \"| \"\n",
    "                    line += str(k) + \" \"\n",
    "                    if col == 9: line += \"| \"\n",
    "        print(line)\n",
    "    print(\"+=======+=======+=======+\")\n",
    "else:\n",
    "    print(\"Optimal Solution could not be found.\")"
   ]
  },
  {
   "cell_type": "code",
   "execution_count": null,
   "metadata": {},
   "outputs": [],
   "source": []
  }
 ],
 "metadata": {
  "kernelspec": {
   "display_name": "Python 3",
   "language": "python",
   "name": "python3"
  },
  "language_info": {
   "codemirror_mode": {
    "name": "ipython",
    "version": 3
   },
   "file_extension": ".py",
   "mimetype": "text/x-python",
   "name": "python",
   "nbconvert_exporter": "python",
   "pygments_lexer": "ipython3",
   "version": "3.6.8"
  }
 },
 "nbformat": 4,
 "nbformat_minor": 2
}
