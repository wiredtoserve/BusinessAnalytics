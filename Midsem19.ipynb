{
 "cells": [
  {
   "cell_type": "code",
   "execution_count": 1,
   "metadata": {},
   "outputs": [],
   "source": [
    "import csv"
   ]
  },
  {
   "cell_type": "code",
   "execution_count": 2,
   "metadata": {},
   "outputs": [],
   "source": [
    "from collections import defaultdict"
   ]
  },
  {
   "cell_type": "code",
   "execution_count": null,
   "metadata": {},
   "outputs": [],
   "source": []
  },
  {
   "cell_type": "code",
   "execution_count": 6,
   "metadata": {},
   "outputs": [],
   "source": [
    "def  sum_some(mylist):\n",
    "    value = 0\n",
    "    for i in mylist:\n",
    "        if i > 10:\n",
    "            value += i\n",
    "\n",
    "    return value"
   ]
  },
  {
   "cell_type": "code",
   "execution_count": 7,
   "metadata": {},
   "outputs": [
    {
     "data": {
      "text/plain": [
       "0"
      ]
     },
     "execution_count": 7,
     "metadata": {},
     "output_type": "execute_result"
    }
   ],
   "source": [
    "sum_some([1,2,3])"
   ]
  },
  {
   "cell_type": "code",
   "execution_count": 8,
   "metadata": {},
   "outputs": [
    {
     "data": {
      "text/plain": [
       "12"
      ]
     },
     "execution_count": 8,
     "metadata": {},
     "output_type": "execute_result"
    }
   ],
   "source": [
    "sum_some([10,12,3])"
   ]
  },
  {
   "cell_type": "code",
   "execution_count": null,
   "metadata": {},
   "outputs": [],
   "source": []
  },
  {
   "cell_type": "code",
   "execution_count": 37,
   "metadata": {},
   "outputs": [],
   "source": [
    "def after_the(mystring):\n",
    "    mylist = mystring.split()\n",
    "    \n",
    "    returnlist = []\n",
    "    \n",
    "    if len(mylist) == 0:\n",
    "        return returnlist\n",
    "    \n",
    "    for i in range(0,len(mylist)):\n",
    "        if mylist[i].lower() == 'the' and i != (len(mylist) - 1):\n",
    "            returnlist.append(mylist[i+1])\n",
    "            \n",
    "        if mylist[i].lower() == 'the' and i == (len(mylist) - 1):\n",
    "            returnlist.append('')\n",
    "        #print(returnlist)\n",
    "            \n",
    "    return returnlist\n",
    "    "
   ]
  },
  {
   "cell_type": "code",
   "execution_count": 38,
   "metadata": {},
   "outputs": [
    {
     "data": {
      "text/plain": [
       "['man,', 'boy', 'dog']"
      ]
     },
     "execution_count": 38,
     "metadata": {},
     "output_type": "execute_result"
    }
   ],
   "source": [
    "after_the('The man, the boy and the dog went there.')"
   ]
  },
  {
   "cell_type": "code",
   "execution_count": 39,
   "metadata": {},
   "outputs": [
    {
     "data": {
      "text/plain": [
       "['']"
      ]
     },
     "execution_count": 39,
     "metadata": {},
     "output_type": "execute_result"
    }
   ],
   "source": [
    "after_the('She named her dog THE')"
   ]
  },
  {
   "cell_type": "code",
   "execution_count": 40,
   "metadata": {},
   "outputs": [
    {
     "data": {
      "text/plain": [
       "[]"
      ]
     },
     "execution_count": 40,
     "metadata": {},
     "output_type": "execute_result"
    }
   ],
   "source": [
    "after_the('She named her dog THE.')"
   ]
  },
  {
   "cell_type": "code",
   "execution_count": 41,
   "metadata": {},
   "outputs": [
    {
     "data": {
      "text/plain": [
       "['hero']"
      ]
     },
     "execution_count": 41,
     "metadata": {},
     "output_type": "execute_result"
    }
   ],
   "source": [
    "after_the('She named her dog THE hero')"
   ]
  },
  {
   "cell_type": "code",
   "execution_count": null,
   "metadata": {},
   "outputs": [],
   "source": []
  },
  {
   "cell_type": "code",
   "execution_count": 42,
   "metadata": {},
   "outputs": [],
   "source": [
    "Students = {\n",
    " 'Student_ID':[1298312, 2384774, 1293847, 8985672, 1487170],\n",
    " 'Course':['MBusA', 'MBusA', 'MBusA', 'MBusA', 'MEng'],\n",
    " 'Semester':[1, 2, 2, 1, 3]\n",
    "}"
   ]
  },
  {
   "cell_type": "code",
   "execution_count": 43,
   "metadata": {},
   "outputs": [],
   "source": [
    "WAM = {\n",
    " 'Student_ID':[8985672, 1298312, 1293847, 2384774, 1487170],\n",
    " 'WAM':[90, 65, 90, 75, 11]\n",
    "}"
   ]
  },
  {
   "cell_type": "code",
   "execution_count": 104,
   "metadata": {},
   "outputs": [],
   "source": [
    "def select(mydict, col, value):\n",
    "    \n",
    "    #print(mydict[col])\n",
    "    \n",
    "    d = {}\n",
    "    newcol = []\n",
    "    mylist = []\n",
    "    mylist2 = []\n",
    "    \n",
    "    col_list = []\n",
    "    \n",
    "    \n",
    "    for i in mydict.keys():\n",
    "        d[i] = newcol\n",
    "        col_list.append(i)\n",
    "        \n",
    "    index = 0\n",
    "    for i in mydict[col]:\n",
    "        \n",
    "        print(i)\n",
    "        if i == value:\n",
    "            mylist.append(i)\n",
    "            \n",
    "            for j in col_list:\n",
    "                if j != col:\n",
    "                    print(mydict[j][index])\n",
    "                    mylist2.append(mydict[j][index])\n",
    "                    #d[j] = mydict[j][index]\n",
    "        \n",
    "        #print('index: ',index)\n",
    "            \n",
    "        d[col] = mylist\n",
    "        for j in col_list:\n",
    "            if j != col:\n",
    "                d[j] = mylist2\n",
    "        \n",
    "        index += 1\n",
    "        \n",
    "    print(col_list)\n",
    "    \n",
    "        \n",
    "    \n",
    "    '''\n",
    "    for i in mydict[col]:\n",
    "        if i == value:\n",
    "            print('Check: ',i)\n",
    "    \n",
    "    for x, y in mydict.items():\n",
    "        print(x,y)\n",
    "        \n",
    "        for i in mydict.values():\n",
    "            print('i: ',i)\n",
    "            if value == i:\n",
    "                print(mydict[i])\n",
    "    '''\n",
    "    \n",
    "    return d"
   ]
  },
  {
   "cell_type": "code",
   "execution_count": 105,
   "metadata": {},
   "outputs": [
    {
     "name": "stdout",
     "output_type": "stream",
     "text": [
      "90\n",
      "8985672\n",
      "65\n",
      "90\n",
      "1293847\n",
      "75\n",
      "11\n",
      "['Student_ID', 'WAM']\n"
     ]
    },
    {
     "data": {
      "text/plain": [
       "{'Student_ID': [8985672, 1293847], 'WAM': [90, 90]}"
      ]
     },
     "execution_count": 105,
     "metadata": {},
     "output_type": "execute_result"
    }
   ],
   "source": [
    "select(WAM, 'WAM', 90)"
   ]
  },
  {
   "cell_type": "code",
   "execution_count": 59,
   "metadata": {},
   "outputs": [
    {
     "data": {
      "text/plain": [
       "{'Student_ID': [], 'Course': [], 'Semester': []}"
      ]
     },
     "execution_count": 59,
     "metadata": {},
     "output_type": "execute_result"
    }
   ],
   "source": [
    "select(Students, 'Semester', 9)"
   ]
  },
  {
   "cell_type": "code",
   "execution_count": null,
   "metadata": {},
   "outputs": [],
   "source": []
  },
  {
   "cell_type": "code",
   "execution_count": null,
   "metadata": {},
   "outputs": [],
   "source": []
  },
  {
   "cell_type": "code",
   "execution_count": null,
   "metadata": {},
   "outputs": [],
   "source": [
    "def f(v): return v > 64\n",
    "select(WAM, 'WAM', f)\n",
    "{'Student_ID': [8985672, 1298312, 1293847, 2384774], 'WAM': [90, 65, 90, 75]}"
   ]
  },
  {
   "cell_type": "code",
   "execution_count": null,
   "metadata": {},
   "outputs": [],
   "source": []
  },
  {
   "cell_type": "code",
   "execution_count": 98,
   "metadata": {},
   "outputs": [],
   "source": [
    "def t():\n",
    "    return 10"
   ]
  },
  {
   "cell_type": "code",
   "execution_count": 101,
   "metadata": {},
   "outputs": [
    {
     "data": {
      "text/plain": [
       "False"
      ]
     },
     "execution_count": 101,
     "metadata": {},
     "output_type": "execute_result"
    }
   ],
   "source": []
  },
  {
   "cell_type": "code",
   "execution_count": 102,
   "metadata": {},
   "outputs": [
    {
     "data": {
      "text/plain": [
       "<function __main__.<lambda>(x)>"
      ]
     },
     "execution_count": 102,
     "metadata": {},
     "output_type": "execute_result"
    }
   ],
   "source": [
    "lambda x: x > 64"
   ]
  },
  {
   "cell_type": "code",
   "execution_count": 103,
   "metadata": {},
   "outputs": [
    {
     "name": "stdout",
     "output_type": "stream",
     "text": [
      "90\n",
      "65\n",
      "90\n",
      "75\n",
      "11\n"
     ]
    }
   ],
   "source": [
    "for i in WAM['WAM']:\n",
    "    print(i)"
   ]
  },
  {
   "cell_type": "code",
   "execution_count": null,
   "metadata": {},
   "outputs": [],
   "source": []
  }
 ],
 "metadata": {
  "kernelspec": {
   "display_name": "Python 3",
   "language": "python",
   "name": "python3"
  },
  "language_info": {
   "codemirror_mode": {
    "name": "ipython",
    "version": 3
   },
   "file_extension": ".py",
   "mimetype": "text/x-python",
   "name": "python",
   "nbconvert_exporter": "python",
   "pygments_lexer": "ipython3",
   "version": "3.6.8"
  }
 },
 "nbformat": 4,
 "nbformat_minor": 2
}
